{
 "cells": [
  {
   "cell_type": "markdown",
   "metadata": {
    "toc": true
   },
   "source": [
    "<h1>Table of Contents<span class=\"tocSkip\"></span></h1>\n",
    "<div class=\"toc\"><ul class=\"toc-item\"></ul></div>"
   ]
  },
  {
   "cell_type": "code",
   "execution_count": 1,
   "metadata": {},
   "outputs": [],
   "source": [
    "import pandas as pd\n",
    "import numpy as np\n",
    "from os import listdir\n",
    "from os.path import isfile, join\n",
    "from tqdm.notebook import tqdm"
   ]
  },
  {
   "cell_type": "code",
   "execution_count": 2,
   "metadata": {},
   "outputs": [],
   "source": [
    "mypath = r'C:/Users/Raphael Costa/Desktop/Thiago/Data Mining/IronHack/Final Project Data Set/Citibike/old format'\n",
    "clean_path = r'C:/Users/Raphael Costa/Desktop/Thiago/Data Mining/IronHack/Final Project Data Set/Citibike/old.clean/'\n",
    "year_path = r'C:/Users/Raphael Costa/Desktop/Thiago/Data Mining/IronHack/Final Project Data Set/Citibike/old_format_year/'\n",
    "bkup_path = r'C:/Users/Raphael Costa/Desktop/Thiago/Data Mining/IronHack/Final Project Data Set/Citibike/backup'"
   ]
  },
  {
   "cell_type": "code",
   "execution_count": 3,
   "metadata": {},
   "outputs": [],
   "source": [
    "onlyfiles = [f for f in listdir(mypath) if isfile(join(mypath, f))]"
   ]
  },
  {
   "cell_type": "code",
   "execution_count": 75,
   "metadata": {},
   "outputs": [
    {
     "data": {
      "application/vnd.jupyter.widget-view+json": {
       "model_id": "291160423c3d492ab713ea5343f7f415",
       "version_major": 2,
       "version_minor": 0
      },
      "text/plain": [
       "HBox(children=(HTML(value=''), FloatProgress(value=0.0, max=6.0), HTML(value='')))"
      ]
     },
     "metadata": {},
     "output_type": "display_data"
    },
    {
     "name": "stdout",
     "output_type": "stream",
     "text": [
      "\n"
     ]
    }
   ],
   "source": [
    "## for to standardize the header in those files that are different\n",
    "columns_name = ['tripduration', 'starttime', 'stoptime', 'start station id',\n",
    "       'start station name', 'start station latitude',\n",
    "       'start station longitude', 'end station id', 'end station name',\n",
    "       'end station latitude', 'end station longitude', 'bikeid', 'usertype',\n",
    "       'birth year', 'gender']\n",
    "\n",
    "old_colnames = ['Trip Duration', 'Start Time', 'Stop Time', 'Start Station ID',\n",
    "       'Start Station Name', 'Start Station Latitude',\n",
    "       'Start Station Longitude', 'End Station ID', 'End Station Name',\n",
    "       'End Station Latitude', 'End Station Longitude', 'Bike ID', 'User Type',\n",
    "       'Birth Year', 'Gender']\n",
    "\n",
    "# create a empty dataframe with columns_name\n",
    "df = pd.DataFrame(columns = columns_name)\n",
    "\n",
    "for i in tqdm(range(39,45)):\n",
    "    x = pd.read_csv(bkup_path+'/'+onlyfiles[i])\n",
    "    # rename columns\n",
    "    x.rename(columns={i:j for i,j in zip(old_colnames,columns_name)}, inplace=True)\n",
    "    # extract to csv all df's togethers\n",
    "    x.to_csv(clean_path + onlyfiles[i], index=False)"
   ]
  },
  {
   "cell_type": "code",
   "execution_count": 4,
   "metadata": {},
   "outputs": [
    {
     "data": {
      "text/plain": [
       "['201307-citibike-tripdata.csv',\n",
       " '201308-citibike-tripdata.csv',\n",
       " '201309-citibike-tripdata.csv',\n",
       " '201310-citibike-tripdata.csv',\n",
       " '201311-citibike-tripdata.csv',\n",
       " '201312-citibike-tripdata.csv',\n",
       " '201401-citibike-tripdata.csv',\n",
       " '201402-citibike-tripdata.csv',\n",
       " '201403-citibike-tripdata.csv',\n",
       " '201404-citibike-tripdata.csv',\n",
       " '201405-citibike-tripdata.csv',\n",
       " '201406-citibike-tripdata.csv',\n",
       " '201407-citibike-tripdata.csv',\n",
       " '201408-citibike-tripdata.csv',\n",
       " '201409-citibike-tripdata.csv',\n",
       " '201410-citibike-tripdata.csv',\n",
       " '201411-citibike-tripdata.csv',\n",
       " '201412-citibike-tripdata.csv',\n",
       " '201501-citibike-tripdata.csv',\n",
       " '201502-citibike-tripdata.csv',\n",
       " '201503-citibike-tripdata.csv',\n",
       " '201504-citibike-tripdata.csv',\n",
       " '201505-citibike-tripdata.csv',\n",
       " '201506-citibike-tripdata.csv',\n",
       " '201507-citibike-tripdata.csv',\n",
       " '201508-citibike-tripdata.csv',\n",
       " '201509-citibike-tripdata.csv',\n",
       " '201510-citibike-tripdata.csv',\n",
       " '201511-citibike-tripdata.csv',\n",
       " '201512-citibike-tripdata.csv',\n",
       " '201601-citibike-tripdata.csv',\n",
       " '201602-citibike-tripdata.csv',\n",
       " '201603-citibike-tripdata.csv',\n",
       " '201604-citibike-tripdata.csv',\n",
       " '201605-citibike-tripdata.csv',\n",
       " '201606-citibike-tripdata.csv',\n",
       " '201607-citibike-tripdata.csv',\n",
       " '201608-citibike-tripdata.csv',\n",
       " '201609-citibike-tripdata.csv',\n",
       " '201610-citibike-tripdata.csv',\n",
       " '201611-citibike-tripdata.csv',\n",
       " '201612-citibike-tripdata.csv',\n",
       " '201701-citibike-tripdata.csv',\n",
       " '201702-citibike-tripdata.csv',\n",
       " '201703-citibike-tripdata.csv',\n",
       " '201704-citibike-tripdata.csv',\n",
       " '201705-citibike-tripdata.csv',\n",
       " '201706-citibike-tripdata.csv',\n",
       " '201707-citibike-tripdata.csv',\n",
       " '201708-citibike-tripdata.csv',\n",
       " '201709-citibike-tripdata.csv',\n",
       " '201710-citibike-tripdata.csv',\n",
       " '201711-citibike-tripdata.csv',\n",
       " '201712-citibike-tripdata.csv',\n",
       " '201801-citibike-tripdata.csv',\n",
       " '201802-citibike-tripdata.csv',\n",
       " '201803-citibike-tripdata.csv',\n",
       " '201804-citibike-tripdata.csv',\n",
       " '201805-citibike-tripdata.csv',\n",
       " '201806-citibike-tripdata.csv',\n",
       " '201807-citibike-tripdata.csv',\n",
       " '201808-citibike-tripdata.csv',\n",
       " '201809-citibike-tripdata.csv',\n",
       " '201810-citibike-tripdata.csv',\n",
       " '201811-citibike-tripdata.csv',\n",
       " '201812-citibike-tripdata.csv',\n",
       " '201901-citibike-tripdata.csv',\n",
       " '201902-citibike-tripdata.csv',\n",
       " '201903-citibike-tripdata.csv',\n",
       " '201904-citibike-tripdata.csv',\n",
       " '201905-citibike-tripdata.csv',\n",
       " '201906-citibike-tripdata.csv',\n",
       " '201907-citibike-tripdata.csv',\n",
       " '201908-citibike-tripdata.csv',\n",
       " '201909-citibike-tripdata.csv',\n",
       " '201910-citibike-tripdata.csv',\n",
       " '201911-citibike-tripdata.csv',\n",
       " '201912-citibike-tripdata.csv',\n",
       " '202001-citibike-tripdata.csv',\n",
       " '202002-citibike-tripdata.csv',\n",
       " '202003-citibike-tripdata.csv',\n",
       " '202004-citibike-tripdata.csv',\n",
       " '202005-citibike-tripdata.csv',\n",
       " '202006-citibike-tripdata.csv',\n",
       " '202007-citibike-tripdata.csv',\n",
       " '202008-citibike-tripdata.csv',\n",
       " '202009-citibike-tripdata.csv',\n",
       " '202010-citibike-tripdata.csv',\n",
       " '202011-citibike-tripdata.csv',\n",
       " '202012-citibike-tripdata.csv',\n",
       " '202101-citibike-tripdata.csv']"
      ]
     },
     "execution_count": 4,
     "metadata": {},
     "output_type": "execute_result"
    }
   ],
   "source": [
    "onlyfiles"
   ]
  },
  {
   "cell_type": "code",
   "execution_count": 79,
   "metadata": {
    "collapsed": true
   },
   "outputs": [
    {
     "data": {
      "application/vnd.jupyter.widget-view+json": {
       "model_id": "a3cffa3541744cbfbd7507ef14c0b268",
       "version_major": 2,
       "version_minor": 0
      },
      "text/plain": [
       "HBox(children=(HTML(value=''), FloatProgress(value=0.0, max=6.0), HTML(value='')))"
      ]
     },
     "metadata": {},
     "output_type": "display_data"
    },
    {
     "name": "stdout",
     "output_type": "stream",
     "text": [
      "39\n",
      "Index(['tripduration', 'starttime', 'stoptime', 'start station id',\n",
      "       'start station name', 'start station latitude',\n",
      "       'start station longitude', 'end station id', 'end station name',\n",
      "       'end station latitude', 'end station longitude', 'bikeid', 'usertype',\n",
      "       'birth year', 'gender'],\n",
      "      dtype='object')\n",
      "40\n",
      "Index(['tripduration', 'starttime', 'stoptime', 'start station id',\n",
      "       'start station name', 'start station latitude',\n",
      "       'start station longitude', 'end station id', 'end station name',\n",
      "       'end station latitude', 'end station longitude', 'bikeid', 'usertype',\n",
      "       'birth year', 'gender'],\n",
      "      dtype='object')\n",
      "41\n",
      "Index(['tripduration', 'starttime', 'stoptime', 'start station id',\n",
      "       'start station name', 'start station latitude',\n",
      "       'start station longitude', 'end station id', 'end station name',\n",
      "       'end station latitude', 'end station longitude', 'bikeid', 'usertype',\n",
      "       'birth year', 'gender'],\n",
      "      dtype='object')\n",
      "42\n",
      "Index(['tripduration', 'starttime', 'stoptime', 'start station id',\n",
      "       'start station name', 'start station latitude',\n",
      "       'start station longitude', 'end station id', 'end station name',\n",
      "       'end station latitude', 'end station longitude', 'bikeid', 'usertype',\n",
      "       'birth year', 'gender'],\n",
      "      dtype='object')\n",
      "43\n",
      "Index(['tripduration', 'starttime', 'stoptime', 'start station id',\n",
      "       'start station name', 'start station latitude',\n",
      "       'start station longitude', 'end station id', 'end station name',\n",
      "       'end station latitude', 'end station longitude', 'bikeid', 'usertype',\n",
      "       'birth year', 'gender'],\n",
      "      dtype='object')\n",
      "44\n",
      "Index(['tripduration', 'starttime', 'stoptime', 'start station id',\n",
      "       'start station name', 'start station latitude',\n",
      "       'start station longitude', 'end station id', 'end station name',\n",
      "       'end station latitude', 'end station longitude', 'bikeid', 'usertype',\n",
      "       'birth year', 'gender'],\n",
      "      dtype='object')\n",
      "\n"
     ]
    }
   ],
   "source": [
    "columns_name = ['tripduration', 'starttime', 'stoptime', 'start station id',\n",
    "       'start station name', 'start station latitude',\n",
    "       'start station longitude', 'end station id', 'end station name',\n",
    "       'end station latitude', 'end station longitude', 'bikeid', 'usertype',\n",
    "       'birth year', 'gender']\n",
    "\n",
    "category_columns = ['start station name', 'end station name', 'bikeid', 'usertype', 'gender']\n",
    "\n",
    "# create a empty dataframe with columns_name\n",
    "df = pd.DataFrame(columns = columns_name)\n",
    "\n",
    "# for to update the empty dataframe with all the files in the folder\n",
    "for i in tqdm(range(39,45)):\n",
    "    x = pd.read_csv(mypath+'/'+onlyfiles[i])\n",
    "    print(i)\n",
    "    print(x.columns)"
   ]
  },
  {
   "cell_type": "code",
   "execution_count": 5,
   "metadata": {},
   "outputs": [
    {
     "data": {
      "application/vnd.jupyter.widget-view+json": {
       "model_id": "16a9afbd69494f1585a1b68c040588a1",
       "version_major": 2,
       "version_minor": 0
      },
      "text/plain": [
       "HBox(children=(HTML(value=''), FloatProgress(value=0.0, max=6.0), HTML(value='')))"
      ]
     },
     "metadata": {},
     "output_type": "display_data"
    },
    {
     "name": "stdout",
     "output_type": "stream",
     "text": [
      "\n"
     ]
    }
   ],
   "source": [
    "# concatenate all files from 2013\n",
    "columns_name = ['tripduration', 'starttime', 'stoptime', 'start station id',\n",
    "       'start station name', 'start station latitude',\n",
    "       'start station longitude', 'end station id', 'end station name',\n",
    "       'end station latitude', 'end station longitude', 'bikeid', 'usertype',\n",
    "       'birth year', 'gender']\n",
    "\n",
    "# create a empty dataframe with columns_name\n",
    "df = pd.DataFrame(columns = columns_name)\n",
    "\n",
    "for i in tqdm(range(0,6)):\n",
    "    x = pd.read_csv(mypath+'/'+onlyfiles[i], dtype={\"start station name\" : 'category', 'end station name':'category',\n",
    "          'bikeid' : 'category', 'usertype' : 'category', 'gender' : 'category'})\n",
    "    # change the type of some columns\n",
    "    x['starttime'] = pd.to_datetime(x['starttime'])\n",
    "    x['stoptime'] = pd.to_datetime(x['stoptime'])\n",
    "    \n",
    "    # change tripduration(seconds) to minutes\n",
    "    x['tripduration'] = x['tripduration'] // 60\n",
    "    # update the usertype names (new format)\n",
    "    x = x.replace('Subscriber','member').replace('Customer','casual')\n",
    "    \n",
    "    # concat dataframes\n",
    "    df = pd.concat([df,x], axis = 0)\n",
    "    \n",
    "# extract to csv all df's togethers\n",
    "df.to_csv(r'C:\\Users\\Raphael Costa\\Desktop\\Thiago\\Data Mining\\IronHack\\Final Project Data Set\\Citibike\\old_format_year\\2013.csv', index=False)"
   ]
  },
  {
   "cell_type": "code",
   "execution_count": 7,
   "metadata": {},
   "outputs": [
    {
     "data": {
      "text/plain": [
       "['201307-citibike-tripdata.csv',\n",
       " '201308-citibike-tripdata.csv',\n",
       " '201309-citibike-tripdata.csv',\n",
       " '201310-citibike-tripdata.csv',\n",
       " '201311-citibike-tripdata.csv',\n",
       " '201312-citibike-tripdata.csv',\n",
       " '201401-citibike-tripdata.csv',\n",
       " '201402-citibike-tripdata.csv',\n",
       " '201403-citibike-tripdata.csv',\n",
       " '201404-citibike-tripdata.csv',\n",
       " '201405-citibike-tripdata.csv',\n",
       " '201406-citibike-tripdata.csv',\n",
       " '201407-citibike-tripdata.csv',\n",
       " '201408-citibike-tripdata.csv',\n",
       " '201409-citibike-tripdata.csv',\n",
       " '201410-citibike-tripdata.csv',\n",
       " '201411-citibike-tripdata.csv',\n",
       " '201412-citibike-tripdata.csv',\n",
       " '201501-citibike-tripdata.csv',\n",
       " '201502-citibike-tripdata.csv',\n",
       " '201503-citibike-tripdata.csv',\n",
       " '201504-citibike-tripdata.csv',\n",
       " '201505-citibike-tripdata.csv',\n",
       " '201506-citibike-tripdata.csv',\n",
       " '201507-citibike-tripdata.csv',\n",
       " '201508-citibike-tripdata.csv',\n",
       " '201509-citibike-tripdata.csv',\n",
       " '201510-citibike-tripdata.csv',\n",
       " '201511-citibike-tripdata.csv',\n",
       " '201512-citibike-tripdata.csv',\n",
       " '201601-citibike-tripdata.csv',\n",
       " '201602-citibike-tripdata.csv',\n",
       " '201603-citibike-tripdata.csv',\n",
       " '201604-citibike-tripdata.csv',\n",
       " '201605-citibike-tripdata.csv',\n",
       " '201606-citibike-tripdata.csv',\n",
       " '201607-citibike-tripdata.csv',\n",
       " '201608-citibike-tripdata.csv',\n",
       " '201609-citibike-tripdata.csv',\n",
       " '201610-citibike-tripdata.csv',\n",
       " '201611-citibike-tripdata.csv',\n",
       " '201612-citibike-tripdata.csv',\n",
       " '201701-citibike-tripdata.csv',\n",
       " '201702-citibike-tripdata.csv',\n",
       " '201703-citibike-tripdata.csv',\n",
       " '201704-citibike-tripdata.csv',\n",
       " '201705-citibike-tripdata.csv',\n",
       " '201706-citibike-tripdata.csv',\n",
       " '201707-citibike-tripdata.csv',\n",
       " '201708-citibike-tripdata.csv',\n",
       " '201709-citibike-tripdata.csv',\n",
       " '201710-citibike-tripdata.csv',\n",
       " '201711-citibike-tripdata.csv',\n",
       " '201712-citibike-tripdata.csv',\n",
       " '201801-citibike-tripdata.csv',\n",
       " '201802-citibike-tripdata.csv',\n",
       " '201803-citibike-tripdata.csv',\n",
       " '201804-citibike-tripdata.csv',\n",
       " '201805-citibike-tripdata.csv',\n",
       " '201806-citibike-tripdata.csv',\n",
       " '201807-citibike-tripdata.csv',\n",
       " '201808-citibike-tripdata.csv',\n",
       " '201809-citibike-tripdata.csv',\n",
       " '201810-citibike-tripdata.csv',\n",
       " '201811-citibike-tripdata.csv',\n",
       " '201812-citibike-tripdata.csv',\n",
       " '201901-citibike-tripdata.csv',\n",
       " '201902-citibike-tripdata.csv',\n",
       " '201903-citibike-tripdata.csv',\n",
       " '201904-citibike-tripdata.csv',\n",
       " '201905-citibike-tripdata.csv',\n",
       " '201906-citibike-tripdata.csv',\n",
       " '201907-citibike-tripdata.csv',\n",
       " '201908-citibike-tripdata.csv',\n",
       " '201909-citibike-tripdata.csv',\n",
       " '201910-citibike-tripdata.csv',\n",
       " '201911-citibike-tripdata.csv',\n",
       " '201912-citibike-tripdata.csv',\n",
       " '202001-citibike-tripdata.csv',\n",
       " '202002-citibike-tripdata.csv',\n",
       " '202003-citibike-tripdata.csv',\n",
       " '202004-citibike-tripdata.csv',\n",
       " '202005-citibike-tripdata.csv',\n",
       " '202006-citibike-tripdata.csv',\n",
       " '202007-citibike-tripdata.csv',\n",
       " '202008-citibike-tripdata.csv',\n",
       " '202009-citibike-tripdata.csv',\n",
       " '202010-citibike-tripdata.csv',\n",
       " '202011-citibike-tripdata.csv',\n",
       " '202012-citibike-tripdata.csv',\n",
       " '202101-citibike-tripdata.csv']"
      ]
     },
     "execution_count": 7,
     "metadata": {},
     "output_type": "execute_result"
    }
   ],
   "source": [
    "onlyfiles"
   ]
  },
  {
   "cell_type": "code",
   "execution_count": 8,
   "metadata": {},
   "outputs": [
    {
     "data": {
      "application/vnd.jupyter.widget-view+json": {
       "model_id": "8fb031d2550145f69bb243046cb9f01b",
       "version_major": 2,
       "version_minor": 0
      },
      "text/plain": [
       "HBox(children=(HTML(value=''), FloatProgress(value=0.0, max=1.0), HTML(value='')))"
      ]
     },
     "metadata": {},
     "output_type": "display_data"
    },
    {
     "name": "stdout",
     "output_type": "stream",
     "text": [
      "201401-citibike-tripdata.csv\n",
      "201402-citibike-tripdata.csv\n",
      "201403-citibike-tripdata.csv\n",
      "201404-citibike-tripdata.csv\n",
      "201405-citibike-tripdata.csv\n",
      "201406-citibike-tripdata.csv\n",
      "201407-citibike-tripdata.csv\n",
      "201408-citibike-tripdata.csv\n",
      "201409-citibike-tripdata.csv\n",
      "201410-citibike-tripdata.csv\n",
      "201411-citibike-tripdata.csv\n",
      "201412-citibike-tripdata.csv\n",
      "2014\n",
      "\n"
     ]
    }
   ],
   "source": [
    "# concatenate all files per year (2014 until 2021) - change the range to be faster if you need\n",
    "columns_name = ['tripduration', 'starttime', 'stoptime', 'start station id',\n",
    "       'start station name', 'start station latitude',\n",
    "       'start station longitude', 'end station id', 'end station name',\n",
    "       'end station latitude', 'end station longitude', 'bikeid', 'usertype',\n",
    "       'birth year', 'gender']\n",
    "\n",
    "# if u change the range, remember to change the 'n' value in the for.\n",
    "list_year = ['2014', '2015', '2016', '2017', '2018', '2019', '2020', '2021']\n",
    "n = 0\n",
    "for x in tqdm(range(6,7,12)):    \n",
    "    # y is going to define the range for each year\n",
    "    y = x+12\n",
    "    \n",
    "    # create a empty dataframe with columns_name\n",
    "    df = pd.DataFrame(columns = columns_name)\n",
    "    try:\n",
    "        for t in range(x, y):\n",
    "            x = pd.read_csv(mypath+'/'+onlyfiles[t], dtype={\"start station name\" : 'category', 'end station name':'category',\n",
    "          'bikeid' : 'category', 'usertype' : 'category', 'gender' : 'category'})\n",
    "            \n",
    "            # change the type of some columns\n",
    "            x['starttime'] = pd.to_datetime(x['starttime'])\n",
    "            x['stoptime'] = pd.to_datetime(x['stoptime'])\n",
    "            # change tripduration(seconds) to minutes\n",
    "            x['tripduration'] = x['tripduration'] // 60\n",
    "            # update the usertype names (new format)\n",
    "            x = x.replace('Subscriber','member').replace('Customer','casual')\n",
    "            # concat dataframes\n",
    "            df = pd.concat([df,x], axis = 0)\n",
    "            print(onlyfiles[t])\n",
    "        print(list_year[n])\n",
    "        df.to_csv(year_path + list_year[n] + '--.csv', index=False)\n",
    "        n = n+1\n",
    "    except IndexError:\n",
    "        print('OK!!')"
   ]
  },
  {
   "cell_type": "code",
   "execution_count": 90,
   "metadata": {},
   "outputs": [],
   "source": [
    "# fixing 2021 01\n",
    "x = pd.read_csv(mypath + '/202101-citibike-tripdata.csv')            \n",
    "# change the type of some columns\n",
    "x['starttime'] = pd.to_datetime(x['starttime'])\n",
    "x['stoptime'] = pd.to_datetime(x['stoptime'])\n",
    "# change tripduration(seconds) to minutes\n",
    "x['tripduration'] = x['tripduration'] // 60\n",
    "# update the usertype names (new format)\n",
    "x = x.replace('Subscriber','member').replace('Customer','casual')\n",
    "x.to_csv(year_path + '2021.csv', index=False)"
   ]
  },
  {
   "cell_type": "code",
   "execution_count": null,
   "metadata": {},
   "outputs": [],
   "source": []
  }
 ],
 "metadata": {
  "kernelspec": {
   "display_name": "Python 3",
   "language": "python",
   "name": "python3"
  },
  "language_info": {
   "codemirror_mode": {
    "name": "ipython",
    "version": 3
   },
   "file_extension": ".py",
   "mimetype": "text/x-python",
   "name": "python",
   "nbconvert_exporter": "python",
   "pygments_lexer": "ipython3",
   "version": "3.8.5"
  },
  "toc": {
   "base_numbering": 1,
   "nav_menu": {},
   "number_sections": true,
   "sideBar": true,
   "skip_h1_title": false,
   "title_cell": "Table of Contents",
   "title_sidebar": "Contents",
   "toc_cell": true,
   "toc_position": {},
   "toc_section_display": true,
   "toc_window_display": false
  },
  "varInspector": {
   "cols": {
    "lenName": 16,
    "lenType": 16,
    "lenVar": 40
   },
   "kernels_config": {
    "python": {
     "delete_cmd_postfix": "",
     "delete_cmd_prefix": "del ",
     "library": "var_list.py",
     "varRefreshCmd": "print(var_dic_list())"
    },
    "r": {
     "delete_cmd_postfix": ") ",
     "delete_cmd_prefix": "rm(",
     "library": "var_list.r",
     "varRefreshCmd": "cat(var_dic_list()) "
    }
   },
   "types_to_exclude": [
    "module",
    "function",
    "builtin_function_or_method",
    "instance",
    "_Feature"
   ],
   "window_display": true
  }
 },
 "nbformat": 4,
 "nbformat_minor": 4
}
