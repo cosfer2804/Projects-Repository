{
 "cells": [
  {
   "cell_type": "markdown",
   "metadata": {
    "toc": true
   },
   "source": [
    "<h1>Table of Contents<span class=\"tocSkip\"></span></h1>\n",
    "<div class=\"toc\"><ul class=\"toc-item\"><li><span><a href=\"#Creating-duration-in-minutes-column\" data-toc-modified-id=\"Creating-duration-in-minutes-column-1\"><span class=\"toc-item-num\">1&nbsp;&nbsp;</span>Creating duration in minutes column</a></span><ul class=\"toc-item\"><li><span><a href=\"#Checking-for-high-duration-values\" data-toc-modified-id=\"Checking-for-high-duration-values-1.1\"><span class=\"toc-item-num\">1.1&nbsp;&nbsp;</span>Checking for high duration values</a></span></li></ul></li><li><span><a href=\"#Drop\" data-toc-modified-id=\"Drop-2\"><span class=\"toc-item-num\">2&nbsp;&nbsp;</span>Drop</a></span></li><li><span><a href=\"#Creating---weekday-and-weekend\" data-toc-modified-id=\"Creating---weekday-and-weekend-3\"><span class=\"toc-item-num\">3&nbsp;&nbsp;</span>Creating - weekday and weekend</a></span></li><li><span><a href=\"#Understanding-the-difference-between-start_station-and-end_station\" data-toc-modified-id=\"Understanding-the-difference-between-start_station-and-end_station-4\"><span class=\"toc-item-num\">4&nbsp;&nbsp;</span>Understanding the difference between start_station and end_station</a></span><ul class=\"toc-item\"><li><span><a href=\"#Dropping-end_stations-outside-NY-and-system-warehouse\" data-toc-modified-id=\"Dropping-end_stations-outside-NY-and-system-warehouse-4.1\"><span class=\"toc-item-num\">4.1&nbsp;&nbsp;</span>Dropping end_stations outside NY and system warehouse</a></span></li><li><span><a href=\"#Checking-again-the-difference\" data-toc-modified-id=\"Checking-again-the-difference-4.2\"><span class=\"toc-item-num\">4.2&nbsp;&nbsp;</span>Checking again the difference</a></span></li></ul></li><li><span><a href=\"#Understanding-trips\" data-toc-modified-id=\"Understanding-trips-5\"><span class=\"toc-item-num\">5&nbsp;&nbsp;</span>Understanding trips</a></span></li><li><span><a href=\"#Final-Dataframe---standardized-with-the-old-format\" data-toc-modified-id=\"Final-Dataframe---standardized-with-the-old-format-6\"><span class=\"toc-item-num\">6&nbsp;&nbsp;</span>Final Dataframe - standardized with the old format</a></span></li><li><span><a href=\"#Creating-column-if-it's-holiday-or-not.\" data-toc-modified-id=\"Creating-column-if-it's-holiday-or-not.-7\"><span class=\"toc-item-num\">7&nbsp;&nbsp;</span>Creating column if it's holiday or not.</a></span></li></ul></div>"
   ]
  },
  {
   "cell_type": "code",
   "execution_count": 35,
   "metadata": {},
   "outputs": [],
   "source": [
    "import pandas as pd\n",
    "import numpy as np\n",
    "import matplotlib\n",
    "from tqdm import tqdm\n",
    "import collections\n",
    "import holidays"
   ]
  },
  {
   "cell_type": "code",
   "execution_count": 2,
   "metadata": {},
   "outputs": [],
   "source": [
    "df = pd.read_csv(r'C:\\Users\\Raphael Costa\\Desktop\\Thiago\\Data Mining\\IronHack\\Final Project Data Set\\Citibike\\new format\\202102-202202.csv',\n",
    "                dtype={\"start_station_name\" : 'category', 'start_station_id':'category', 'rideable_type':'category',\n",
    "          'end_station_name' : 'category', 'end_station_id' : 'category', 'member_casual' : 'category'})"
   ]
  },
  {
   "cell_type": "code",
   "execution_count": 3,
   "metadata": {},
   "outputs": [],
   "source": [
    "df['started_at'] = pd.to_datetime(df['started_at'])\n",
    "df['ended_at'] = pd.to_datetime(df['ended_at'])"
   ]
  },
  {
   "cell_type": "code",
   "execution_count": 4,
   "metadata": {},
   "outputs": [
    {
     "name": "stdout",
     "output_type": "stream",
     "text": [
      "<class 'pandas.core.frame.DataFrame'>\n",
      "RangeIndex: 28850536 entries, 0 to 28850535\n",
      "Data columns (total 12 columns):\n",
      " #   Column              Dtype         \n",
      "---  ------              -----         \n",
      " 0   rideable_type       category      \n",
      " 1   started_at          datetime64[ns]\n",
      " 2   ended_at            datetime64[ns]\n",
      " 3   start_station_name  category      \n",
      " 4   start_station_id    category      \n",
      " 5   end_station_name    category      \n",
      " 6   end_station_id      category      \n",
      " 7   start_lat           float64       \n",
      " 8   start_lng           float64       \n",
      " 9   end_lat             float64       \n",
      " 10  end_lng             float64       \n",
      " 11  member_casual       category      \n",
      "dtypes: category(6), datetime64[ns](2), float64(4)\n",
      "memory usage: 1.6 GB\n"
     ]
    }
   ],
   "source": [
    "df.info()"
   ]
  },
  {
   "cell_type": "markdown",
   "metadata": {},
   "source": [
    "# Creating duration in minutes column"
   ]
  },
  {
   "cell_type": "code",
   "execution_count": 5,
   "metadata": {},
   "outputs": [
    {
     "name": "stderr",
     "output_type": "stream",
     "text": [
      "100%|██████████| 28850536/28850536 [19:07<00:00, 25142.31it/s]\n"
     ]
    }
   ],
   "source": [
    "## it worked, but with '.minute' it's going to show the difference in minutes\n",
    "duration = []\n",
    "for i in tqdm(range(0,len(df))):\n",
    "    x = round(((df['ended_at'][i] - df['started_at'][i]).total_seconds())/60)\n",
    "    if x<0:\n",
    "        x = 60 + x\n",
    "        duration.append(x)\n",
    "    else:\n",
    "        duration.append(x)\n",
    "x = pd.DataFrame(duration)\n",
    "df.insert(0, 'duration_min', x[0])"
   ]
  },
  {
   "cell_type": "code",
   "execution_count": 6,
   "metadata": {},
   "outputs": [],
   "source": [
    "test = df"
   ]
  },
  {
   "cell_type": "markdown",
   "metadata": {},
   "source": [
    "## Checking for high duration values\n",
    "- look like the duration with 25 hours or 1500 min is a trip canceled by the system.\n",
    "- yeah!! It's confirmed."
   ]
  },
  {
   "cell_type": "code",
   "execution_count": 7,
   "metadata": {
    "collapsed": true
   },
   "outputs": [
    {
     "data": {
      "text/html": [
       "<div>\n",
       "<style scoped>\n",
       "    .dataframe tbody tr th:only-of-type {\n",
       "        vertical-align: middle;\n",
       "    }\n",
       "\n",
       "    .dataframe tbody tr th {\n",
       "        vertical-align: top;\n",
       "    }\n",
       "\n",
       "    .dataframe thead th {\n",
       "        text-align: right;\n",
       "    }\n",
       "</style>\n",
       "<table border=\"1\" class=\"dataframe\">\n",
       "  <thead>\n",
       "    <tr style=\"text-align: right;\">\n",
       "      <th></th>\n",
       "      <th>duration_min</th>\n",
       "      <th>rideable_type</th>\n",
       "      <th>started_at</th>\n",
       "      <th>ended_at</th>\n",
       "      <th>start_station_name</th>\n",
       "      <th>start_station_id</th>\n",
       "      <th>end_station_name</th>\n",
       "      <th>end_station_id</th>\n",
       "      <th>start_lat</th>\n",
       "      <th>start_lng</th>\n",
       "      <th>end_lat</th>\n",
       "      <th>end_lng</th>\n",
       "      <th>member_casual</th>\n",
       "    </tr>\n",
       "  </thead>\n",
       "  <tbody>\n",
       "    <tr>\n",
       "      <th>89</th>\n",
       "      <td>1500</td>\n",
       "      <td>docked_bike</td>\n",
       "      <td>2021-02-28 12:59:28</td>\n",
       "      <td>2021-03-01 13:59:08</td>\n",
       "      <td>E 16 St &amp; Irving Pl</td>\n",
       "      <td>5938.11</td>\n",
       "      <td>W 15 St &amp; 7 Ave</td>\n",
       "      <td>6030.06</td>\n",
       "      <td>40.735367</td>\n",
       "      <td>-73.987973</td>\n",
       "      <td>40.739355</td>\n",
       "      <td>-73.999318</td>\n",
       "      <td>casual</td>\n",
       "    </tr>\n",
       "    <tr>\n",
       "      <th>2885</th>\n",
       "      <td>1500</td>\n",
       "      <td>docked_bike</td>\n",
       "      <td>2021-02-17 18:05:55</td>\n",
       "      <td>2021-02-18 19:05:49</td>\n",
       "      <td>Broadway &amp; W 51 St</td>\n",
       "      <td>6779.04</td>\n",
       "      <td>E 2 St &amp; Avenue A</td>\n",
       "      <td>5553.10</td>\n",
       "      <td>40.762288</td>\n",
       "      <td>-73.983361</td>\n",
       "      <td>40.723077</td>\n",
       "      <td>-73.985836</td>\n",
       "      <td>casual</td>\n",
       "    </tr>\n",
       "    <tr>\n",
       "      <th>5323</th>\n",
       "      <td>1500</td>\n",
       "      <td>docked_bike</td>\n",
       "      <td>2021-02-03 22:16:51</td>\n",
       "      <td>2021-02-04 23:16:44</td>\n",
       "      <td>W 36 St &amp; 9 Ave</td>\n",
       "      <td>6569.07</td>\n",
       "      <td>W 44 St &amp; 5 Ave</td>\n",
       "      <td>6551.02</td>\n",
       "      <td>40.754623</td>\n",
       "      <td>-73.995167</td>\n",
       "      <td>40.755003</td>\n",
       "      <td>-73.980144</td>\n",
       "      <td>casual</td>\n",
       "    </tr>\n",
       "    <tr>\n",
       "      <th>10353</th>\n",
       "      <td>1500</td>\n",
       "      <td>docked_bike</td>\n",
       "      <td>2021-02-11 12:06:46</td>\n",
       "      <td>2021-02-12 13:06:37</td>\n",
       "      <td>E 32 St &amp; Park Ave</td>\n",
       "      <td>6280.12</td>\n",
       "      <td>W 40 St &amp; 5 Ave</td>\n",
       "      <td>6474.02</td>\n",
       "      <td>40.745712</td>\n",
       "      <td>-73.981948</td>\n",
       "      <td>40.752269</td>\n",
       "      <td>-73.982079</td>\n",
       "      <td>member</td>\n",
       "    </tr>\n",
       "    <tr>\n",
       "      <th>14124</th>\n",
       "      <td>1500</td>\n",
       "      <td>docked_bike</td>\n",
       "      <td>2021-02-14 21:33:33</td>\n",
       "      <td>2021-02-15 22:33:26</td>\n",
       "      <td>Lincoln Ave &amp; E 138 St</td>\n",
       "      <td>7744.06</td>\n",
       "      <td>NaN</td>\n",
       "      <td>NaN</td>\n",
       "      <td>40.810893</td>\n",
       "      <td>-73.927311</td>\n",
       "      <td>NaN</td>\n",
       "      <td>NaN</td>\n",
       "      <td>casual</td>\n",
       "    </tr>\n",
       "    <tr>\n",
       "      <th>...</th>\n",
       "      <td>...</td>\n",
       "      <td>...</td>\n",
       "      <td>...</td>\n",
       "      <td>...</td>\n",
       "      <td>...</td>\n",
       "      <td>...</td>\n",
       "      <td>...</td>\n",
       "      <td>...</td>\n",
       "      <td>...</td>\n",
       "      <td>...</td>\n",
       "      <td>...</td>\n",
       "      <td>...</td>\n",
       "      <td>...</td>\n",
       "    </tr>\n",
       "    <tr>\n",
       "      <th>28270580</th>\n",
       "      <td>1500</td>\n",
       "      <td>classic_bike</td>\n",
       "      <td>2022-02-12 19:39:20</td>\n",
       "      <td>2022-02-13 20:39:15</td>\n",
       "      <td>Wythe Ave &amp; Metropolitan Ave</td>\n",
       "      <td>5348.02</td>\n",
       "      <td>NaN</td>\n",
       "      <td>NaN</td>\n",
       "      <td>40.716887</td>\n",
       "      <td>-73.963198</td>\n",
       "      <td>NaN</td>\n",
       "      <td>NaN</td>\n",
       "      <td>casual</td>\n",
       "    </tr>\n",
       "    <tr>\n",
       "      <th>28270663</th>\n",
       "      <td>1500</td>\n",
       "      <td>classic_bike</td>\n",
       "      <td>2022-02-22 19:27:22</td>\n",
       "      <td>2022-02-23 20:27:17</td>\n",
       "      <td>West St &amp; Chambers St</td>\n",
       "      <td>5329.03</td>\n",
       "      <td>NaN</td>\n",
       "      <td>NaN</td>\n",
       "      <td>40.717548</td>\n",
       "      <td>-74.013221</td>\n",
       "      <td>NaN</td>\n",
       "      <td>NaN</td>\n",
       "      <td>member</td>\n",
       "    </tr>\n",
       "    <tr>\n",
       "      <th>28270691</th>\n",
       "      <td>1500</td>\n",
       "      <td>classic_bike</td>\n",
       "      <td>2022-02-21 12:06:07</td>\n",
       "      <td>2022-02-22 13:05:47</td>\n",
       "      <td>Morris Ave &amp; E Burnside Ave</td>\n",
       "      <td>8441.01</td>\n",
       "      <td>NaN</td>\n",
       "      <td>NaN</td>\n",
       "      <td>40.853220</td>\n",
       "      <td>-73.905460</td>\n",
       "      <td>NaN</td>\n",
       "      <td>NaN</td>\n",
       "      <td>casual</td>\n",
       "    </tr>\n",
       "    <tr>\n",
       "      <th>28270726</th>\n",
       "      <td>1500</td>\n",
       "      <td>classic_bike</td>\n",
       "      <td>2022-02-23 22:37:33</td>\n",
       "      <td>2022-02-24 23:37:28</td>\n",
       "      <td>2 Ave &amp; E 72 St</td>\n",
       "      <td>6925.09</td>\n",
       "      <td>NaN</td>\n",
       "      <td>NaN</td>\n",
       "      <td>40.768762</td>\n",
       "      <td>-73.958408</td>\n",
       "      <td>NaN</td>\n",
       "      <td>NaN</td>\n",
       "      <td>member</td>\n",
       "    </tr>\n",
       "    <tr>\n",
       "      <th>28607980</th>\n",
       "      <td>1500</td>\n",
       "      <td>classic_bike</td>\n",
       "      <td>2022-02-02 12:03:56</td>\n",
       "      <td>2022-02-03 13:03:33</td>\n",
       "      <td>E 33 St &amp; 5 Ave</td>\n",
       "      <td>6322.01</td>\n",
       "      <td>W 21 St &amp; 6 Ave</td>\n",
       "      <td>6140.05</td>\n",
       "      <td>40.747659</td>\n",
       "      <td>-73.984907</td>\n",
       "      <td>40.741740</td>\n",
       "      <td>-73.994156</td>\n",
       "      <td>member</td>\n",
       "    </tr>\n",
       "  </tbody>\n",
       "</table>\n",
       "<p>27015 rows × 13 columns</p>\n",
       "</div>"
      ],
      "text/plain": [
       "          duration_min rideable_type          started_at            ended_at  \\\n",
       "89                1500   docked_bike 2021-02-28 12:59:28 2021-03-01 13:59:08   \n",
       "2885              1500   docked_bike 2021-02-17 18:05:55 2021-02-18 19:05:49   \n",
       "5323              1500   docked_bike 2021-02-03 22:16:51 2021-02-04 23:16:44   \n",
       "10353             1500   docked_bike 2021-02-11 12:06:46 2021-02-12 13:06:37   \n",
       "14124             1500   docked_bike 2021-02-14 21:33:33 2021-02-15 22:33:26   \n",
       "...                ...           ...                 ...                 ...   \n",
       "28270580          1500  classic_bike 2022-02-12 19:39:20 2022-02-13 20:39:15   \n",
       "28270663          1500  classic_bike 2022-02-22 19:27:22 2022-02-23 20:27:17   \n",
       "28270691          1500  classic_bike 2022-02-21 12:06:07 2022-02-22 13:05:47   \n",
       "28270726          1500  classic_bike 2022-02-23 22:37:33 2022-02-24 23:37:28   \n",
       "28607980          1500  classic_bike 2022-02-02 12:03:56 2022-02-03 13:03:33   \n",
       "\n",
       "                    start_station_name start_station_id   end_station_name  \\\n",
       "89                 E 16 St & Irving Pl          5938.11    W 15 St & 7 Ave   \n",
       "2885                Broadway & W 51 St          6779.04  E 2 St & Avenue A   \n",
       "5323                   W 36 St & 9 Ave          6569.07    W 44 St & 5 Ave   \n",
       "10353               E 32 St & Park Ave          6280.12    W 40 St & 5 Ave   \n",
       "14124           Lincoln Ave & E 138 St          7744.06                NaN   \n",
       "...                                ...              ...                ...   \n",
       "28270580  Wythe Ave & Metropolitan Ave          5348.02                NaN   \n",
       "28270663         West St & Chambers St          5329.03                NaN   \n",
       "28270691   Morris Ave & E Burnside Ave          8441.01                NaN   \n",
       "28270726               2 Ave & E 72 St          6925.09                NaN   \n",
       "28607980               E 33 St & 5 Ave          6322.01    W 21 St & 6 Ave   \n",
       "\n",
       "         end_station_id  start_lat  start_lng    end_lat    end_lng  \\\n",
       "89              6030.06  40.735367 -73.987973  40.739355 -73.999318   \n",
       "2885            5553.10  40.762288 -73.983361  40.723077 -73.985836   \n",
       "5323            6551.02  40.754623 -73.995167  40.755003 -73.980144   \n",
       "10353           6474.02  40.745712 -73.981948  40.752269 -73.982079   \n",
       "14124               NaN  40.810893 -73.927311        NaN        NaN   \n",
       "...                 ...        ...        ...        ...        ...   \n",
       "28270580            NaN  40.716887 -73.963198        NaN        NaN   \n",
       "28270663            NaN  40.717548 -74.013221        NaN        NaN   \n",
       "28270691            NaN  40.853220 -73.905460        NaN        NaN   \n",
       "28270726            NaN  40.768762 -73.958408        NaN        NaN   \n",
       "28607980        6140.05  40.747659 -73.984907  40.741740 -73.994156   \n",
       "\n",
       "         member_casual  \n",
       "89              casual  \n",
       "2885            casual  \n",
       "5323            casual  \n",
       "10353           member  \n",
       "14124           casual  \n",
       "...                ...  \n",
       "28270580        casual  \n",
       "28270663        member  \n",
       "28270691        casual  \n",
       "28270726        member  \n",
       "28607980        member  \n",
       "\n",
       "[27015 rows x 13 columns]"
      ]
     },
     "execution_count": 7,
     "metadata": {},
     "output_type": "execute_result"
    }
   ],
   "source": [
    "df.loc[df['duration_min']==1500]"
   ]
  },
  {
   "cell_type": "code",
   "execution_count": 65,
   "metadata": {
    "collapsed": true
   },
   "outputs": [
    {
     "data": {
      "text/html": [
       "<div>\n",
       "<style scoped>\n",
       "    .dataframe tbody tr th:only-of-type {\n",
       "        vertical-align: middle;\n",
       "    }\n",
       "\n",
       "    .dataframe tbody tr th {\n",
       "        vertical-align: top;\n",
       "    }\n",
       "\n",
       "    .dataframe thead th {\n",
       "        text-align: right;\n",
       "    }\n",
       "</style>\n",
       "<table border=\"1\" class=\"dataframe\">\n",
       "  <thead>\n",
       "    <tr style=\"text-align: right;\">\n",
       "      <th></th>\n",
       "      <th>duration_min</th>\n",
       "      <th>rideable_type</th>\n",
       "      <th>started_at</th>\n",
       "      <th>ended_at</th>\n",
       "      <th>start_station_name</th>\n",
       "      <th>start_station_id</th>\n",
       "      <th>end_station_name</th>\n",
       "      <th>end_station_id</th>\n",
       "      <th>start_lat</th>\n",
       "      <th>start_lng</th>\n",
       "      <th>end_lat</th>\n",
       "      <th>end_lng</th>\n",
       "      <th>member_casual</th>\n",
       "    </tr>\n",
       "  </thead>\n",
       "  <tbody>\n",
       "    <tr>\n",
       "      <th>14124</th>\n",
       "      <td>1500</td>\n",
       "      <td>docked_bike</td>\n",
       "      <td>2021-02-14 21:33:33</td>\n",
       "      <td>2021-02-15 22:33:26</td>\n",
       "      <td>Lincoln Ave &amp; E 138 St</td>\n",
       "      <td>7744.06</td>\n",
       "      <td>NaN</td>\n",
       "      <td>NaN</td>\n",
       "      <td>40.810893</td>\n",
       "      <td>-73.927311</td>\n",
       "      <td>NaN</td>\n",
       "      <td>NaN</td>\n",
       "      <td>casual</td>\n",
       "    </tr>\n",
       "    <tr>\n",
       "      <th>14211</th>\n",
       "      <td>1500</td>\n",
       "      <td>docked_bike</td>\n",
       "      <td>2021-02-25 17:32:07</td>\n",
       "      <td>2021-02-26 18:31:49</td>\n",
       "      <td>Pier 40 - Hudson River Park</td>\n",
       "      <td>5696.03</td>\n",
       "      <td>NaN</td>\n",
       "      <td>NaN</td>\n",
       "      <td>40.727714</td>\n",
       "      <td>-74.011295</td>\n",
       "      <td>NaN</td>\n",
       "      <td>NaN</td>\n",
       "      <td>casual</td>\n",
       "    </tr>\n",
       "    <tr>\n",
       "      <th>14295</th>\n",
       "      <td>1500</td>\n",
       "      <td>docked_bike</td>\n",
       "      <td>2021-02-18 16:23:36</td>\n",
       "      <td>2021-02-19 17:23:30</td>\n",
       "      <td>11 Ave &amp; W 27 St</td>\n",
       "      <td>6425.04</td>\n",
       "      <td>NaN</td>\n",
       "      <td>NaN</td>\n",
       "      <td>40.751396</td>\n",
       "      <td>-74.005226</td>\n",
       "      <td>NaN</td>\n",
       "      <td>NaN</td>\n",
       "      <td>member</td>\n",
       "    </tr>\n",
       "    <tr>\n",
       "      <th>14369</th>\n",
       "      <td>1500</td>\n",
       "      <td>docked_bike</td>\n",
       "      <td>2021-02-26 12:23:15</td>\n",
       "      <td>2021-02-27 13:23:08</td>\n",
       "      <td>W 87 St &amp; West End Ave</td>\n",
       "      <td>7484.05</td>\n",
       "      <td>NaN</td>\n",
       "      <td>NaN</td>\n",
       "      <td>40.789622</td>\n",
       "      <td>-73.977570</td>\n",
       "      <td>NaN</td>\n",
       "      <td>NaN</td>\n",
       "      <td>casual</td>\n",
       "    </tr>\n",
       "    <tr>\n",
       "      <th>14409</th>\n",
       "      <td>1500</td>\n",
       "      <td>docked_bike</td>\n",
       "      <td>2021-02-28 12:18:03</td>\n",
       "      <td>2021-03-01 13:17:53</td>\n",
       "      <td>South St &amp; Gouverneur Ln</td>\n",
       "      <td>4953.04</td>\n",
       "      <td>NaN</td>\n",
       "      <td>NaN</td>\n",
       "      <td>40.703553</td>\n",
       "      <td>-74.006702</td>\n",
       "      <td>NaN</td>\n",
       "      <td>NaN</td>\n",
       "      <td>casual</td>\n",
       "    </tr>\n",
       "    <tr>\n",
       "      <th>...</th>\n",
       "      <td>...</td>\n",
       "      <td>...</td>\n",
       "      <td>...</td>\n",
       "      <td>...</td>\n",
       "      <td>...</td>\n",
       "      <td>...</td>\n",
       "      <td>...</td>\n",
       "      <td>...</td>\n",
       "      <td>...</td>\n",
       "      <td>...</td>\n",
       "      <td>...</td>\n",
       "      <td>...</td>\n",
       "      <td>...</td>\n",
       "    </tr>\n",
       "    <tr>\n",
       "      <th>28270479</th>\n",
       "      <td>1500</td>\n",
       "      <td>classic_bike</td>\n",
       "      <td>2022-02-09 20:59:34</td>\n",
       "      <td>2022-02-10 21:59:26</td>\n",
       "      <td>Stanton St &amp; Norfolk St</td>\n",
       "      <td>5445.07</td>\n",
       "      <td>NaN</td>\n",
       "      <td>NaN</td>\n",
       "      <td>40.720747</td>\n",
       "      <td>-73.986274</td>\n",
       "      <td>NaN</td>\n",
       "      <td>NaN</td>\n",
       "      <td>casual</td>\n",
       "    </tr>\n",
       "    <tr>\n",
       "      <th>28270580</th>\n",
       "      <td>1500</td>\n",
       "      <td>classic_bike</td>\n",
       "      <td>2022-02-12 19:39:20</td>\n",
       "      <td>2022-02-13 20:39:15</td>\n",
       "      <td>Wythe Ave &amp; Metropolitan Ave</td>\n",
       "      <td>5348.02</td>\n",
       "      <td>NaN</td>\n",
       "      <td>NaN</td>\n",
       "      <td>40.716887</td>\n",
       "      <td>-73.963198</td>\n",
       "      <td>NaN</td>\n",
       "      <td>NaN</td>\n",
       "      <td>casual</td>\n",
       "    </tr>\n",
       "    <tr>\n",
       "      <th>28270663</th>\n",
       "      <td>1500</td>\n",
       "      <td>classic_bike</td>\n",
       "      <td>2022-02-22 19:27:22</td>\n",
       "      <td>2022-02-23 20:27:17</td>\n",
       "      <td>West St &amp; Chambers St</td>\n",
       "      <td>5329.03</td>\n",
       "      <td>NaN</td>\n",
       "      <td>NaN</td>\n",
       "      <td>40.717548</td>\n",
       "      <td>-74.013221</td>\n",
       "      <td>NaN</td>\n",
       "      <td>NaN</td>\n",
       "      <td>member</td>\n",
       "    </tr>\n",
       "    <tr>\n",
       "      <th>28270691</th>\n",
       "      <td>1500</td>\n",
       "      <td>classic_bike</td>\n",
       "      <td>2022-02-21 12:06:07</td>\n",
       "      <td>2022-02-22 13:05:47</td>\n",
       "      <td>Morris Ave &amp; E Burnside Ave</td>\n",
       "      <td>8441.01</td>\n",
       "      <td>NaN</td>\n",
       "      <td>NaN</td>\n",
       "      <td>40.853220</td>\n",
       "      <td>-73.905460</td>\n",
       "      <td>NaN</td>\n",
       "      <td>NaN</td>\n",
       "      <td>casual</td>\n",
       "    </tr>\n",
       "    <tr>\n",
       "      <th>28270726</th>\n",
       "      <td>1500</td>\n",
       "      <td>classic_bike</td>\n",
       "      <td>2022-02-23 22:37:33</td>\n",
       "      <td>2022-02-24 23:37:28</td>\n",
       "      <td>2 Ave &amp; E 72 St</td>\n",
       "      <td>6925.09</td>\n",
       "      <td>NaN</td>\n",
       "      <td>NaN</td>\n",
       "      <td>40.768762</td>\n",
       "      <td>-73.958408</td>\n",
       "      <td>NaN</td>\n",
       "      <td>NaN</td>\n",
       "      <td>member</td>\n",
       "    </tr>\n",
       "  </tbody>\n",
       "</table>\n",
       "<p>24562 rows × 13 columns</p>\n",
       "</div>"
      ],
      "text/plain": [
       "          duration_min rideable_type          started_at            ended_at  \\\n",
       "14124             1500   docked_bike 2021-02-14 21:33:33 2021-02-15 22:33:26   \n",
       "14211             1500   docked_bike 2021-02-25 17:32:07 2021-02-26 18:31:49   \n",
       "14295             1500   docked_bike 2021-02-18 16:23:36 2021-02-19 17:23:30   \n",
       "14369             1500   docked_bike 2021-02-26 12:23:15 2021-02-27 13:23:08   \n",
       "14409             1500   docked_bike 2021-02-28 12:18:03 2021-03-01 13:17:53   \n",
       "...                ...           ...                 ...                 ...   \n",
       "28270479          1500  classic_bike 2022-02-09 20:59:34 2022-02-10 21:59:26   \n",
       "28270580          1500  classic_bike 2022-02-12 19:39:20 2022-02-13 20:39:15   \n",
       "28270663          1500  classic_bike 2022-02-22 19:27:22 2022-02-23 20:27:17   \n",
       "28270691          1500  classic_bike 2022-02-21 12:06:07 2022-02-22 13:05:47   \n",
       "28270726          1500  classic_bike 2022-02-23 22:37:33 2022-02-24 23:37:28   \n",
       "\n",
       "                    start_station_name start_station_id end_station_name  \\\n",
       "14124           Lincoln Ave & E 138 St          7744.06              NaN   \n",
       "14211      Pier 40 - Hudson River Park          5696.03              NaN   \n",
       "14295                 11 Ave & W 27 St          6425.04              NaN   \n",
       "14369           W 87 St & West End Ave          7484.05              NaN   \n",
       "14409         South St & Gouverneur Ln          4953.04              NaN   \n",
       "...                                ...              ...              ...   \n",
       "28270479       Stanton St & Norfolk St          5445.07              NaN   \n",
       "28270580  Wythe Ave & Metropolitan Ave          5348.02              NaN   \n",
       "28270663         West St & Chambers St          5329.03              NaN   \n",
       "28270691   Morris Ave & E Burnside Ave          8441.01              NaN   \n",
       "28270726               2 Ave & E 72 St          6925.09              NaN   \n",
       "\n",
       "         end_station_id  start_lat  start_lng  end_lat  end_lng member_casual  \n",
       "14124               NaN  40.810893 -73.927311      NaN      NaN        casual  \n",
       "14211               NaN  40.727714 -74.011295      NaN      NaN        casual  \n",
       "14295               NaN  40.751396 -74.005226      NaN      NaN        member  \n",
       "14369               NaN  40.789622 -73.977570      NaN      NaN        casual  \n",
       "14409               NaN  40.703553 -74.006702      NaN      NaN        casual  \n",
       "...                 ...        ...        ...      ...      ...           ...  \n",
       "28270479            NaN  40.720747 -73.986274      NaN      NaN        casual  \n",
       "28270580            NaN  40.716887 -73.963198      NaN      NaN        casual  \n",
       "28270663            NaN  40.717548 -74.013221      NaN      NaN        member  \n",
       "28270691            NaN  40.853220 -73.905460      NaN      NaN        casual  \n",
       "28270726            NaN  40.768762 -73.958408      NaN      NaN        member  \n",
       "\n",
       "[24562 rows x 13 columns]"
      ]
     },
     "execution_count": 65,
     "metadata": {},
     "output_type": "execute_result"
    }
   ],
   "source": [
    "df.loc[df['end_station_name'].isna()].loc[df['duration_min']==1500]"
   ]
  },
  {
   "cell_type": "markdown",
   "metadata": {},
   "source": [
    "# Drop\n",
    "- nulls - most of them are in 'end_station' info. I dropped them, 106k values in 28kk.\n",
    "- rideable_type = 'electric' - after dropping the nulls, i found only 6 values for electrik bikes. Not worth it to keep, probably they are testing it."
   ]
  },
  {
   "cell_type": "code",
   "execution_count": 12,
   "metadata": {},
   "outputs": [],
   "source": [
    "test1 = df.dropna()"
   ]
  },
  {
   "cell_type": "code",
   "execution_count": 14,
   "metadata": {},
   "outputs": [
    {
     "name": "stderr",
     "output_type": "stream",
     "text": [
      "C:\\Users\\Raphael Costa\\anaconda3\\envs\\class1\\lib\\site-packages\\pandas\\core\\frame.py:4163: SettingWithCopyWarning: \n",
      "A value is trying to be set on a copy of a slice from a DataFrame\n",
      "\n",
      "See the caveats in the documentation: https://pandas.pydata.org/pandas-docs/stable/user_guide/indexing.html#returning-a-view-versus-a-copy\n",
      "  return super().drop(\n"
     ]
    }
   ],
   "source": [
    "test1.drop(test1.loc[df['rideable_type']=='electric_bike'].index, inplace=True)"
   ]
  },
  {
   "cell_type": "code",
   "execution_count": 41,
   "metadata": {
    "scrolled": true
   },
   "outputs": [],
   "source": [
    "test1 = test1.reset_index(drop=True)"
   ]
  },
  {
   "cell_type": "markdown",
   "metadata": {},
   "source": [
    "# Creating - weekday and weekend\n",
    "- boolean 1,0 if it's weekday or weekend;"
   ]
  },
  {
   "cell_type": "code",
   "execution_count": 44,
   "metadata": {
    "collapsed": true
   },
   "outputs": [
    {
     "name": "stderr",
     "output_type": "stream",
     "text": [
      "100%|██████████| 28744392/28744392 [06:05<00:00, 78743.19it/s]\n"
     ]
    },
    {
     "ename": "NameError",
     "evalue": "name 'collections' is not defined",
     "output_type": "error",
     "traceback": [
      "\u001b[1;31m---------------------------------------------------------------------------\u001b[0m",
      "\u001b[1;31mNameError\u001b[0m                                 Traceback (most recent call last)",
      "\u001b[1;32m<ipython-input-44-e8487c680ee3>\u001b[0m in \u001b[0;36m<module>\u001b[1;34m\u001b[0m\n\u001b[0;32m      9\u001b[0m         \u001b[0mweekday\u001b[0m\u001b[1;33m.\u001b[0m\u001b[0mappend\u001b[0m\u001b[1;33m(\u001b[0m\u001b[1;34m'0'\u001b[0m\u001b[1;33m)\u001b[0m\u001b[1;33m\u001b[0m\u001b[1;33m\u001b[0m\u001b[0m\n\u001b[0;32m     10\u001b[0m         \u001b[0mweekend\u001b[0m\u001b[1;33m.\u001b[0m\u001b[0mappend\u001b[0m\u001b[1;33m(\u001b[0m\u001b[1;34m'1'\u001b[0m\u001b[1;33m)\u001b[0m\u001b[1;33m\u001b[0m\u001b[1;33m\u001b[0m\u001b[0m\n\u001b[1;32m---> 11\u001b[1;33m \u001b[0mprint\u001b[0m\u001b[1;33m(\u001b[0m\u001b[0mcollections\u001b[0m\u001b[1;33m.\u001b[0m\u001b[0mCounter\u001b[0m\u001b[1;33m(\u001b[0m\u001b[0mweekday\u001b[0m\u001b[1;33m)\u001b[0m\u001b[1;33m)\u001b[0m\u001b[1;33m\u001b[0m\u001b[1;33m\u001b[0m\u001b[0m\n\u001b[0m\u001b[0;32m     12\u001b[0m \u001b[0mprint\u001b[0m\u001b[1;33m(\u001b[0m\u001b[0mcollections\u001b[0m\u001b[1;33m.\u001b[0m\u001b[0mCounter\u001b[0m\u001b[1;33m(\u001b[0m\u001b[0mweekend\u001b[0m\u001b[1;33m)\u001b[0m\u001b[1;33m)\u001b[0m\u001b[1;33m\u001b[0m\u001b[1;33m\u001b[0m\u001b[0m\n",
      "\u001b[1;31mNameError\u001b[0m: name 'collections' is not defined"
     ]
    }
   ],
   "source": [
    "weekday = []\n",
    "weekend = []\n",
    "for i in tqdm(range(len(test1))):\n",
    "    x = test1['started_at'][i].weekday()\n",
    "    if x < 5:\n",
    "        weekday.append('1')\n",
    "        weekend.append('0')\n",
    "    else:\n",
    "        weekday.append('0')\n",
    "        weekend.append('1')\n",
    "print(collections.Counter(weekday))\n",
    "print(collections.Counter(weekend))"
   ]
  },
  {
   "cell_type": "code",
   "execution_count": 50,
   "metadata": {},
   "outputs": [],
   "source": [
    "test1['weekday'] = weekday"
   ]
  },
  {
   "cell_type": "code",
   "execution_count": 51,
   "metadata": {},
   "outputs": [],
   "source": [
    "test1['weekend'] = weekend"
   ]
  },
  {
   "cell_type": "code",
   "execution_count": 62,
   "metadata": {},
   "outputs": [],
   "source": [
    "test1.to_csv('test1.csv')"
   ]
  },
  {
   "cell_type": "markdown",
   "metadata": {},
   "source": [
    "# Understanding the difference between start_station and end_station"
   ]
  },
  {
   "cell_type": "code",
   "execution_count": 3,
   "metadata": {},
   "outputs": [
    {
     "name": "stderr",
     "output_type": "stream",
     "text": [
      "<decorator-gen-55>:2: DtypeWarning: Columns (6,8) have mixed types.Specify dtype option on import or set low_memory=False.\n"
     ]
    },
    {
     "name": "stdout",
     "output_type": "stream",
     "text": [
      "Wall time: 1min 30s\n"
     ]
    }
   ],
   "source": [
    "%%time\n",
    "test1 = pd.read_csv('test1.csv')"
   ]
  },
  {
   "cell_type": "code",
   "execution_count": 4,
   "metadata": {},
   "outputs": [
    {
     "name": "stdout",
     "output_type": "stream",
     "text": [
      "<class 'pandas.core.frame.DataFrame'>\n",
      "RangeIndex: 28744392 entries, 0 to 28744391\n",
      "Data columns (total 16 columns):\n",
      " #   Column              Dtype  \n",
      "---  ------              -----  \n",
      " 0   Unnamed: 0          int64  \n",
      " 1   duration_min        int64  \n",
      " 2   rideable_type       object \n",
      " 3   started_at          object \n",
      " 4   ended_at            object \n",
      " 5   start_station_name  object \n",
      " 6   start_station_id    object \n",
      " 7   end_station_name    object \n",
      " 8   end_station_id      object \n",
      " 9   start_lat           float64\n",
      " 10  start_lng           float64\n",
      " 11  end_lat             float64\n",
      " 12  end_lng             float64\n",
      " 13  member_casual       object \n",
      " 14  weekday             int64  \n",
      " 15  weekend             int64  \n",
      "dtypes: float64(4), int64(4), object(8)\n",
      "memory usage: 3.4+ GB\n"
     ]
    }
   ],
   "source": [
    "test1.info()"
   ]
  },
  {
   "cell_type": "code",
   "execution_count": 5,
   "metadata": {
    "scrolled": false
   },
   "outputs": [
    {
     "data": {
      "text/plain": [
       "3169"
      ]
     },
     "execution_count": 5,
     "metadata": {},
     "output_type": "execute_result"
    }
   ],
   "source": [
    "test1['start_station_id'].value_counts().count()"
   ]
  },
  {
   "cell_type": "code",
   "execution_count": 6,
   "metadata": {
    "scrolled": true
   },
   "outputs": [
    {
     "data": {
      "text/plain": [
       "3243"
      ]
     },
     "execution_count": 6,
     "metadata": {},
     "output_type": "execute_result"
    }
   ],
   "source": [
    "test1['end_station_id'].value_counts().count()"
   ]
  },
  {
   "cell_type": "code",
   "execution_count": 7,
   "metadata": {},
   "outputs": [],
   "source": [
    "list_start_id = test1['start_station_id'].unique()"
   ]
  },
  {
   "cell_type": "code",
   "execution_count": 8,
   "metadata": {},
   "outputs": [],
   "source": [
    "list_end_id = test1['end_station_id'].unique()"
   ]
  },
  {
   "cell_type": "code",
   "execution_count": 9,
   "metadata": {},
   "outputs": [],
   "source": [
    "# list to check the difference between end and start station.\n",
    "q = 0\n",
    "list_not_common = []\n",
    "for i in list_end_id:\n",
    "    if i in list_start_id:\n",
    "        q = +1\n",
    "    else:\n",
    "        list_not_common.append(i)        "
   ]
  },
  {
   "cell_type": "code",
   "execution_count": 10,
   "metadata": {
    "scrolled": true
   },
   "outputs": [
    {
     "data": {
      "text/plain": [
       "['JC066',\n",
       " 'SYS014',\n",
       " 'JC098',\n",
       " 'JC059',\n",
       " 'JC008',\n",
       " 'JC104',\n",
       " 'JC057',\n",
       " 'JC096',\n",
       " '7987.07',\n",
       " 'JC013',\n",
       " 'JC063',\n",
       " 'JC009',\n",
       " 'JC011',\n",
       " 'JC002',\n",
       " 'HB102',\n",
       " 'HB502',\n",
       " 'JC003',\n",
       " 'JC072',\n",
       " 'JC078',\n",
       " 'JC094',\n",
       " 'JC006',\n",
       " '8469.01',\n",
       " 'JC053',\n",
       " 'JC056',\n",
       " 'HB203',\n",
       " '4953.01',\n",
       " 'HB601',\n",
       " 'JC035',\n",
       " 'HB103',\n",
       " 'JC052',\n",
       " 'HB506',\n",
       " 'JC102',\n",
       " 'JC106',\n",
       " 'HB507',\n",
       " 'JC095',\n",
       " 'HB302',\n",
       " 'HB404',\n",
       " 'JC005',\n",
       " 'HB402',\n",
       " 'JCSYS',\n",
       " 'HB202',\n",
       " 'HB602',\n",
       " 'HB303',\n",
       " 'HB403',\n",
       " 'JC105',\n",
       " 'JC051',\n",
       " 'SYS037',\n",
       " 'HB101',\n",
       " 'JC024',\n",
       " 'HB505',\n",
       " 'JC103',\n",
       " 'JC027',\n",
       " 'JC038',\n",
       " 'JC065',\n",
       " 'HB603',\n",
       " 'JC023',\n",
       " 'HB304',\n",
       " 'JC081',\n",
       " 'JC082',\n",
       " 'JC014',\n",
       " 'HB401',\n",
       " 'HB201',\n",
       " 'JC055',\n",
       " 'HB105',\n",
       " 'JC018',\n",
       " 'JC020',\n",
       " 'JC077',\n",
       " 'JC034',\n",
       " 'JC019',\n",
       " 'HB501',\n",
       " 'JC099',\n",
       " 'JC032',\n",
       " 'JC076',\n",
       " 'SYS030',\n",
       " 'HB607',\n",
       " '8428.04',\n",
       " 'SYS007']"
      ]
     },
     "execution_count": 10,
     "metadata": {},
     "output_type": "execute_result"
    }
   ],
   "source": [
    "list_not_common"
   ]
  },
  {
   "cell_type": "markdown",
   "metadata": {},
   "source": [
    " - These are the stations that are only in end station  IDs:\n",
    "     - JC = New Jersey\n",
    "     - SYS = system, warehouse\n",
    "     - HB = Hoboken\n",
    "     - JCSYS - New Jersey system\n",
    " - In this case the person get the bike in NY and drop it in another city. And for the system, probably it's a mechanical issue, so the company gets the bike to fix it. \n",
    " - I'm going to drop them."
   ]
  },
  {
   "cell_type": "markdown",
   "metadata": {},
   "source": [
    "## Dropping end_stations outside NY and system warehouse"
   ]
  },
  {
   "cell_type": "code",
   "execution_count": 11,
   "metadata": {},
   "outputs": [],
   "source": [
    "test2 = test1"
   ]
  },
  {
   "cell_type": "code",
   "execution_count": 12,
   "metadata": {},
   "outputs": [
    {
     "name": "stderr",
     "output_type": "stream",
     "text": [
      "100%|██████████| 77/77 [01:35<00:00,  1.24s/it]\n"
     ]
    }
   ],
   "source": [
    "# getting the index to drop\n",
    "list_index_drop = []\n",
    "for i in tqdm(list_not_common):\n",
    "    index = test2.loc[test2['end_station_id']==i].index.values\n",
    "    for x in range(len(index)):\n",
    "        list_index_drop.append(index[x])"
   ]
  },
  {
   "cell_type": "code",
   "execution_count": 13,
   "metadata": {},
   "outputs": [
    {
     "data": {
      "text/plain": [
       "1830"
      ]
     },
     "execution_count": 13,
     "metadata": {},
     "output_type": "execute_result"
    }
   ],
   "source": [
    "len(list_index_drop)"
   ]
  },
  {
   "cell_type": "code",
   "execution_count": 15,
   "metadata": {},
   "outputs": [
    {
     "name": "stdout",
     "output_type": "stream",
     "text": [
      "Wall time: 6min 59s\n",
      "Compiler : 594 ms\n",
      "Parser   : 420 ms\n"
     ]
    }
   ],
   "source": [
    "%%time\n",
    "indexes_to_keep = set(range(test1.shape[0])) - set(list_index_drop)\n",
    "test2 = test1.take(list(indexes_to_keep))"
   ]
  },
  {
   "cell_type": "markdown",
   "metadata": {},
   "source": [
    "## Checking again the difference"
   ]
  },
  {
   "cell_type": "code",
   "execution_count": 16,
   "metadata": {},
   "outputs": [],
   "source": [
    "list_start_id = test2['start_station_id'].unique()\n",
    "list_end_id = test2['end_station_id'].unique()"
   ]
  },
  {
   "cell_type": "code",
   "execution_count": 17,
   "metadata": {},
   "outputs": [
    {
     "data": {
      "text/plain": [
       "3169"
      ]
     },
     "execution_count": 17,
     "metadata": {},
     "output_type": "execute_result"
    }
   ],
   "source": [
    "len(list_start_id)"
   ]
  },
  {
   "cell_type": "code",
   "execution_count": 18,
   "metadata": {},
   "outputs": [
    {
     "data": {
      "text/plain": [
       "3166"
      ]
     },
     "execution_count": 18,
     "metadata": {},
     "output_type": "execute_result"
    }
   ],
   "source": [
    "len(list_end_id)"
   ]
  },
  {
   "cell_type": "code",
   "execution_count": 19,
   "metadata": {},
   "outputs": [],
   "source": [
    "# list to check the difference between end and start station.\n",
    "q = 0\n",
    "list_not_common = []\n",
    "for i in list_start_id:\n",
    "    if i in list_end_id:\n",
    "        q = +1\n",
    "    else:\n",
    "        list_not_common.append(i)"
   ]
  },
  {
   "cell_type": "code",
   "execution_count": 20,
   "metadata": {},
   "outputs": [
    {
     "data": {
      "text/plain": [
       "[6551.03, 3038.08, 8428.04]"
      ]
     },
     "execution_count": 20,
     "metadata": {},
     "output_type": "execute_result"
    }
   ],
   "source": [
    "# the same station name has different id's. So probably they changed the id of these stations. Still real locations...\n",
    "list_not_common"
   ]
  },
  {
   "cell_type": "code",
   "execution_count": 21,
   "metadata": {
    "scrolled": true
   },
   "outputs": [
    {
     "data": {
      "text/html": [
       "<div>\n",
       "<style scoped>\n",
       "    .dataframe tbody tr th:only-of-type {\n",
       "        vertical-align: middle;\n",
       "    }\n",
       "\n",
       "    .dataframe tbody tr th {\n",
       "        vertical-align: top;\n",
       "    }\n",
       "\n",
       "    .dataframe thead th {\n",
       "        text-align: right;\n",
       "    }\n",
       "</style>\n",
       "<table border=\"1\" class=\"dataframe\">\n",
       "  <thead>\n",
       "    <tr style=\"text-align: right;\">\n",
       "      <th></th>\n",
       "      <th>Unnamed: 0</th>\n",
       "      <th>duration_min</th>\n",
       "      <th>rideable_type</th>\n",
       "      <th>started_at</th>\n",
       "      <th>ended_at</th>\n",
       "      <th>start_station_name</th>\n",
       "      <th>start_station_id</th>\n",
       "      <th>end_station_name</th>\n",
       "      <th>end_station_id</th>\n",
       "      <th>start_lat</th>\n",
       "      <th>start_lng</th>\n",
       "      <th>end_lat</th>\n",
       "      <th>end_lng</th>\n",
       "      <th>member_casual</th>\n",
       "      <th>weekday</th>\n",
       "      <th>weekend</th>\n",
       "    </tr>\n",
       "  </thead>\n",
       "  <tbody>\n",
       "    <tr>\n",
       "      <th>6807</th>\n",
       "      <td>6807</td>\n",
       "      <td>66</td>\n",
       "      <td>docked_bike</td>\n",
       "      <td>2021-02-13 10:16:14</td>\n",
       "      <td>2021-02-13 11:22:44</td>\n",
       "      <td>E 43 St &amp; 5 Ave</td>\n",
       "      <td>6551.03</td>\n",
       "      <td>W 44 St &amp; 5 Ave</td>\n",
       "      <td>6551.02</td>\n",
       "      <td>40.754120</td>\n",
       "      <td>-73.980251</td>\n",
       "      <td>40.755003</td>\n",
       "      <td>-73.980144</td>\n",
       "      <td>member</td>\n",
       "      <td>0</td>\n",
       "      <td>1</td>\n",
       "    </tr>\n",
       "    <tr>\n",
       "      <th>6811</th>\n",
       "      <td>6811</td>\n",
       "      <td>5</td>\n",
       "      <td>docked_bike</td>\n",
       "      <td>2021-02-11 08:12:24</td>\n",
       "      <td>2021-02-11 08:16:56</td>\n",
       "      <td>E 43 St &amp; 5 Ave</td>\n",
       "      <td>6551.03</td>\n",
       "      <td>Broadway &amp; W 29 St</td>\n",
       "      <td>6289.06</td>\n",
       "      <td>40.754120</td>\n",
       "      <td>-73.980251</td>\n",
       "      <td>40.746201</td>\n",
       "      <td>-73.988557</td>\n",
       "      <td>member</td>\n",
       "      <td>1</td>\n",
       "      <td>0</td>\n",
       "    </tr>\n",
       "    <tr>\n",
       "      <th>10739</th>\n",
       "      <td>10739</td>\n",
       "      <td>2</td>\n",
       "      <td>docked_bike</td>\n",
       "      <td>2021-02-08 19:05:31</td>\n",
       "      <td>2021-02-08 19:07:14</td>\n",
       "      <td>E 43 St &amp; 5 Ave</td>\n",
       "      <td>6551.03</td>\n",
       "      <td>W 40 St &amp; 5 Ave</td>\n",
       "      <td>6474.02</td>\n",
       "      <td>40.754121</td>\n",
       "      <td>-73.980252</td>\n",
       "      <td>40.752269</td>\n",
       "      <td>-73.982079</td>\n",
       "      <td>member</td>\n",
       "      <td>1</td>\n",
       "      <td>0</td>\n",
       "    </tr>\n",
       "    <tr>\n",
       "      <th>10930</th>\n",
       "      <td>10930</td>\n",
       "      <td>10</td>\n",
       "      <td>docked_bike</td>\n",
       "      <td>2021-02-11 10:46:34</td>\n",
       "      <td>2021-02-11 10:56:27</td>\n",
       "      <td>E 43 St &amp; 5 Ave</td>\n",
       "      <td>6551.03</td>\n",
       "      <td>W 20 St &amp; 7 Ave</td>\n",
       "      <td>6182.02</td>\n",
       "      <td>40.754120</td>\n",
       "      <td>-73.980251</td>\n",
       "      <td>40.742388</td>\n",
       "      <td>-73.997262</td>\n",
       "      <td>member</td>\n",
       "      <td>1</td>\n",
       "      <td>0</td>\n",
       "    </tr>\n",
       "    <tr>\n",
       "      <th>11563</th>\n",
       "      <td>11563</td>\n",
       "      <td>111</td>\n",
       "      <td>docked_bike</td>\n",
       "      <td>2021-02-14 14:33:52</td>\n",
       "      <td>2021-02-14 16:24:27</td>\n",
       "      <td>E 43 St &amp; 5 Ave</td>\n",
       "      <td>6551.03</td>\n",
       "      <td>Broadway &amp; Battery Pl</td>\n",
       "      <td>4962.01</td>\n",
       "      <td>40.754120</td>\n",
       "      <td>-73.980251</td>\n",
       "      <td>40.704633</td>\n",
       "      <td>-74.013617</td>\n",
       "      <td>casual</td>\n",
       "      <td>0</td>\n",
       "      <td>1</td>\n",
       "    </tr>\n",
       "    <tr>\n",
       "      <th>...</th>\n",
       "      <td>...</td>\n",
       "      <td>...</td>\n",
       "      <td>...</td>\n",
       "      <td>...</td>\n",
       "      <td>...</td>\n",
       "      <td>...</td>\n",
       "      <td>...</td>\n",
       "      <td>...</td>\n",
       "      <td>...</td>\n",
       "      <td>...</td>\n",
       "      <td>...</td>\n",
       "      <td>...</td>\n",
       "      <td>...</td>\n",
       "      <td>...</td>\n",
       "      <td>...</td>\n",
       "      <td>...</td>\n",
       "    </tr>\n",
       "    <tr>\n",
       "      <th>628795</th>\n",
       "      <td>628795</td>\n",
       "      <td>32</td>\n",
       "      <td>docked_bike</td>\n",
       "      <td>2021-02-10 17:30:41</td>\n",
       "      <td>2021-02-10 18:03:07</td>\n",
       "      <td>E 43 St &amp; 5 Ave</td>\n",
       "      <td>6551.03</td>\n",
       "      <td>Riverside Dr &amp; W 82 St</td>\n",
       "      <td>7388.10</td>\n",
       "      <td>40.754120</td>\n",
       "      <td>-73.980251</td>\n",
       "      <td>40.787209</td>\n",
       "      <td>-73.981281</td>\n",
       "      <td>member</td>\n",
       "      <td>1</td>\n",
       "      <td>0</td>\n",
       "    </tr>\n",
       "    <tr>\n",
       "      <th>639959</th>\n",
       "      <td>639959</td>\n",
       "      <td>12</td>\n",
       "      <td>docked_bike</td>\n",
       "      <td>2021-02-08 19:13:26</td>\n",
       "      <td>2021-02-08 19:25:10</td>\n",
       "      <td>E 43 St &amp; 5 Ave</td>\n",
       "      <td>6551.03</td>\n",
       "      <td>E 15 St &amp; 3 Ave</td>\n",
       "      <td>5863.07</td>\n",
       "      <td>40.754120</td>\n",
       "      <td>-73.980251</td>\n",
       "      <td>40.734232</td>\n",
       "      <td>-73.986923</td>\n",
       "      <td>member</td>\n",
       "      <td>1</td>\n",
       "      <td>0</td>\n",
       "    </tr>\n",
       "    <tr>\n",
       "      <th>639981</th>\n",
       "      <td>639981</td>\n",
       "      <td>32</td>\n",
       "      <td>docked_bike</td>\n",
       "      <td>2021-02-10 17:26:17</td>\n",
       "      <td>2021-02-10 17:58:39</td>\n",
       "      <td>E 43 St &amp; 5 Ave</td>\n",
       "      <td>6551.03</td>\n",
       "      <td>E 17 St &amp; Broadway</td>\n",
       "      <td>5980.07</td>\n",
       "      <td>40.754120</td>\n",
       "      <td>-73.980251</td>\n",
       "      <td>40.737050</td>\n",
       "      <td>-73.990093</td>\n",
       "      <td>member</td>\n",
       "      <td>1</td>\n",
       "      <td>0</td>\n",
       "    </tr>\n",
       "    <tr>\n",
       "      <th>639982</th>\n",
       "      <td>639982</td>\n",
       "      <td>27</td>\n",
       "      <td>docked_bike</td>\n",
       "      <td>2021-02-10 12:21:04</td>\n",
       "      <td>2021-02-10 12:48:09</td>\n",
       "      <td>E 43 St &amp; 5 Ave</td>\n",
       "      <td>6551.03</td>\n",
       "      <td>E 17 St &amp; Broadway</td>\n",
       "      <td>5980.07</td>\n",
       "      <td>40.754120</td>\n",
       "      <td>-73.980251</td>\n",
       "      <td>40.737050</td>\n",
       "      <td>-73.990093</td>\n",
       "      <td>member</td>\n",
       "      <td>1</td>\n",
       "      <td>0</td>\n",
       "    </tr>\n",
       "    <tr>\n",
       "      <th>640058</th>\n",
       "      <td>640058</td>\n",
       "      <td>25</td>\n",
       "      <td>docked_bike</td>\n",
       "      <td>2021-02-05 17:43:42</td>\n",
       "      <td>2021-02-05 18:08:16</td>\n",
       "      <td>E 43 St &amp; 5 Ave</td>\n",
       "      <td>6551.03</td>\n",
       "      <td>E 17 St &amp; Broadway</td>\n",
       "      <td>5980.07</td>\n",
       "      <td>40.754120</td>\n",
       "      <td>-73.980251</td>\n",
       "      <td>40.737050</td>\n",
       "      <td>-73.990093</td>\n",
       "      <td>member</td>\n",
       "      <td>1</td>\n",
       "      <td>0</td>\n",
       "    </tr>\n",
       "  </tbody>\n",
       "</table>\n",
       "<p>189 rows × 16 columns</p>\n",
       "</div>"
      ],
      "text/plain": [
       "        Unnamed: 0  duration_min rideable_type           started_at  \\\n",
       "6807          6807            66   docked_bike  2021-02-13 10:16:14   \n",
       "6811          6811             5   docked_bike  2021-02-11 08:12:24   \n",
       "10739        10739             2   docked_bike  2021-02-08 19:05:31   \n",
       "10930        10930            10   docked_bike  2021-02-11 10:46:34   \n",
       "11563        11563           111   docked_bike  2021-02-14 14:33:52   \n",
       "...            ...           ...           ...                  ...   \n",
       "628795      628795            32   docked_bike  2021-02-10 17:30:41   \n",
       "639959      639959            12   docked_bike  2021-02-08 19:13:26   \n",
       "639981      639981            32   docked_bike  2021-02-10 17:26:17   \n",
       "639982      639982            27   docked_bike  2021-02-10 12:21:04   \n",
       "640058      640058            25   docked_bike  2021-02-05 17:43:42   \n",
       "\n",
       "                   ended_at start_station_name start_station_id  \\\n",
       "6807    2021-02-13 11:22:44    E 43 St & 5 Ave          6551.03   \n",
       "6811    2021-02-11 08:16:56    E 43 St & 5 Ave          6551.03   \n",
       "10739   2021-02-08 19:07:14    E 43 St & 5 Ave          6551.03   \n",
       "10930   2021-02-11 10:56:27    E 43 St & 5 Ave          6551.03   \n",
       "11563   2021-02-14 16:24:27    E 43 St & 5 Ave          6551.03   \n",
       "...                     ...                ...              ...   \n",
       "628795  2021-02-10 18:03:07    E 43 St & 5 Ave          6551.03   \n",
       "639959  2021-02-08 19:25:10    E 43 St & 5 Ave          6551.03   \n",
       "639981  2021-02-10 17:58:39    E 43 St & 5 Ave          6551.03   \n",
       "639982  2021-02-10 12:48:09    E 43 St & 5 Ave          6551.03   \n",
       "640058  2021-02-05 18:08:16    E 43 St & 5 Ave          6551.03   \n",
       "\n",
       "              end_station_name end_station_id  start_lat  start_lng  \\\n",
       "6807           W 44 St & 5 Ave        6551.02  40.754120 -73.980251   \n",
       "6811        Broadway & W 29 St        6289.06  40.754120 -73.980251   \n",
       "10739          W 40 St & 5 Ave        6474.02  40.754121 -73.980252   \n",
       "10930          W 20 St & 7 Ave        6182.02  40.754120 -73.980251   \n",
       "11563    Broadway & Battery Pl        4962.01  40.754120 -73.980251   \n",
       "...                        ...            ...        ...        ...   \n",
       "628795  Riverside Dr & W 82 St        7388.10  40.754120 -73.980251   \n",
       "639959         E 15 St & 3 Ave        5863.07  40.754120 -73.980251   \n",
       "639981      E 17 St & Broadway        5980.07  40.754120 -73.980251   \n",
       "639982      E 17 St & Broadway        5980.07  40.754120 -73.980251   \n",
       "640058      E 17 St & Broadway        5980.07  40.754120 -73.980251   \n",
       "\n",
       "          end_lat    end_lng member_casual  weekday  weekend  \n",
       "6807    40.755003 -73.980144        member        0        1  \n",
       "6811    40.746201 -73.988557        member        1        0  \n",
       "10739   40.752269 -73.982079        member        1        0  \n",
       "10930   40.742388 -73.997262        member        1        0  \n",
       "11563   40.704633 -74.013617        casual        0        1  \n",
       "...           ...        ...           ...      ...      ...  \n",
       "628795  40.787209 -73.981281        member        1        0  \n",
       "639959  40.734232 -73.986923        member        1        0  \n",
       "639981  40.737050 -73.990093        member        1        0  \n",
       "639982  40.737050 -73.990093        member        1        0  \n",
       "640058  40.737050 -73.990093        member        1        0  \n",
       "\n",
       "[189 rows x 16 columns]"
      ]
     },
     "execution_count": 21,
     "metadata": {},
     "output_type": "execute_result"
    }
   ],
   "source": [
    "test2.loc[test2['start_station_id']== list_not_common[0]]"
   ]
  },
  {
   "cell_type": "markdown",
   "metadata": {},
   "source": [
    "# Understanding trips"
   ]
  },
  {
   "cell_type": "code",
   "execution_count": 22,
   "metadata": {
    "scrolled": true
   },
   "outputs": [
    {
     "name": "stdout",
     "output_type": "stream",
     "text": [
      "Wall time: 4.9 s\n"
     ]
    }
   ],
   "source": [
    "%%time\n",
    "unique_start_end = test2[['start_station_id','end_station_id']].nunique()"
   ]
  },
  {
   "cell_type": "code",
   "execution_count": 23,
   "metadata": {},
   "outputs": [
    {
     "data": {
      "text/plain": [
       "10033054"
      ]
     },
     "execution_count": 23,
     "metadata": {},
     "output_type": "execute_result"
    }
   ],
   "source": [
    "# theorical number of possible unique trips\n",
    "unique_start_end.agg('product')"
   ]
  },
  {
   "cell_type": "code",
   "execution_count": 24,
   "metadata": {
    "scrolled": true
   },
   "outputs": [
    {
     "data": {
      "text/plain": [
       "876533"
      ]
     },
     "execution_count": 24,
     "metadata": {},
     "output_type": "execute_result"
    }
   ],
   "source": [
    "# actual number of unique trips\n",
    "test2[['start_station_name','end_station_name']].value_counts().count()"
   ]
  },
  {
   "cell_type": "markdown",
   "metadata": {},
   "source": [
    "# Final Dataframe - standardized with the old format\n",
    "- drop one of the weekends (if it's 0 on weekdays, then it's weekend);"
   ]
  },
  {
   "cell_type": "code",
   "execution_count": 25,
   "metadata": {},
   "outputs": [
    {
     "name": "stdout",
     "output_type": "stream",
     "text": [
      "<class 'pandas.core.frame.DataFrame'>\n",
      "Int64Index: 28742562 entries, 0 to 28744391\n",
      "Data columns (total 16 columns):\n",
      " #   Column              Dtype  \n",
      "---  ------              -----  \n",
      " 0   Unnamed: 0          int64  \n",
      " 1   duration_min        int64  \n",
      " 2   rideable_type       object \n",
      " 3   started_at          object \n",
      " 4   ended_at            object \n",
      " 5   start_station_name  object \n",
      " 6   start_station_id    object \n",
      " 7   end_station_name    object \n",
      " 8   end_station_id      object \n",
      " 9   start_lat           float64\n",
      " 10  start_lng           float64\n",
      " 11  end_lat             float64\n",
      " 12  end_lng             float64\n",
      " 13  member_casual       object \n",
      " 14  weekday             int64  \n",
      " 15  weekend             int64  \n",
      "dtypes: float64(4), int64(4), object(8)\n",
      "memory usage: 3.6+ GB\n"
     ]
    }
   ],
   "source": [
    "test2.info()"
   ]
  },
  {
   "cell_type": "code",
   "execution_count": 26,
   "metadata": {},
   "outputs": [
    {
     "name": "stdout",
     "output_type": "stream",
     "text": [
      "Wall time: 19.7 s\n"
     ]
    }
   ],
   "source": [
    "%%time\n",
    "df_final = test2[['duration_min','started_at','ended_at','start_station_name','start_station_id','end_station_name','end_station_id','start_lat','start_lng','end_lat','end_lng','member_casual','weekday','weekend']]"
   ]
  },
  {
   "cell_type": "code",
   "execution_count": 27,
   "metadata": {},
   "outputs": [],
   "source": [
    "new_colnames = ('tripduration','started_at','ended_at','start_station_name','start_station_id','end_station_name','end_station_id','start_lat','start_lng','end_lat','end_lng','member_casual','weekday','weekend')"
   ]
  },
  {
   "cell_type": "code",
   "execution_count": 28,
   "metadata": {},
   "outputs": [
    {
     "name": "stdout",
     "output_type": "stream",
     "text": [
      "Wall time: 296 ms\n"
     ]
    }
   ],
   "source": [
    "%%time\n",
    "df_final.columns = new_colnames"
   ]
  },
  {
   "cell_type": "code",
   "execution_count": 29,
   "metadata": {},
   "outputs": [
    {
     "name": "stdout",
     "output_type": "stream",
     "text": [
      "<class 'pandas.core.frame.DataFrame'>\n",
      "Int64Index: 28742562 entries, 0 to 28744391\n",
      "Data columns (total 14 columns):\n",
      " #   Column              Dtype  \n",
      "---  ------              -----  \n",
      " 0   tripduration        int64  \n",
      " 1   started_at          object \n",
      " 2   ended_at            object \n",
      " 3   start_station_name  object \n",
      " 4   start_station_id    object \n",
      " 5   end_station_name    object \n",
      " 6   end_station_id      object \n",
      " 7   start_lat           float64\n",
      " 8   start_lng           float64\n",
      " 9   end_lat             float64\n",
      " 10  end_lng             float64\n",
      " 11  member_casual       object \n",
      " 12  weekday             int64  \n",
      " 13  weekend             int64  \n",
      "dtypes: float64(4), int64(3), object(7)\n",
      "memory usage: 3.2+ GB\n"
     ]
    }
   ],
   "source": [
    "df_final.info()"
   ]
  },
  {
   "cell_type": "markdown",
   "metadata": {},
   "source": [
    "# Creating column if it's holiday or not."
   ]
  },
  {
   "cell_type": "code",
   "execution_count": 32,
   "metadata": {},
   "outputs": [],
   "source": [
    "df_final = df_final.drop('weekend',axis=1)"
   ]
  },
  {
   "cell_type": "code",
   "execution_count": 42,
   "metadata": {},
   "outputs": [],
   "source": [
    "df_final = df_final.reset_index(drop=True)"
   ]
  },
  {
   "cell_type": "code",
   "execution_count": 43,
   "metadata": {},
   "outputs": [
    {
     "name": "stdout",
     "output_type": "stream",
     "text": [
      "<class 'pandas.core.frame.DataFrame'>\n",
      "RangeIndex: 28742562 entries, 0 to 28742561\n",
      "Data columns (total 13 columns):\n",
      " #   Column              Dtype  \n",
      "---  ------              -----  \n",
      " 0   tripduration        int64  \n",
      " 1   started_at          object \n",
      " 2   ended_at            object \n",
      " 3   start_station_name  object \n",
      " 4   start_station_id    object \n",
      " 5   end_station_name    object \n",
      " 6   end_station_id      object \n",
      " 7   start_lat           float64\n",
      " 8   start_lng           float64\n",
      " 9   end_lat             float64\n",
      " 10  end_lng             float64\n",
      " 11  member_casual       object \n",
      " 12  weekday             int64  \n",
      "dtypes: float64(4), int64(2), object(7)\n",
      "memory usage: 2.8+ GB\n"
     ]
    }
   ],
   "source": [
    "df_final.info()"
   ]
  },
  {
   "cell_type": "code",
   "execution_count": 37,
   "metadata": {},
   "outputs": [],
   "source": [
    "holiday_NY = holidays.US(state='NY')"
   ]
  },
  {
   "cell_type": "code",
   "execution_count": 44,
   "metadata": {},
   "outputs": [
    {
     "name": "stderr",
     "output_type": "stream",
     "text": [
      "100%|██████████| 28742562/28742562 [30:40<00:00, 15617.82it/s]\n"
     ]
    }
   ],
   "source": [
    "holiday = []\n",
    "for i in tqdm(range(len(df_final))):\n",
    "    if df_final['started_at'][i] in holiday_NY:\n",
    "        holiday.append('1')\n",
    "    else:\n",
    "        holiday.append('0')\n",
    "        "
   ]
  },
  {
   "cell_type": "code",
   "execution_count": 46,
   "metadata": {},
   "outputs": [
    {
     "name": "stdout",
     "output_type": "stream",
     "text": [
      "Wall time: 528 ms\n"
     ]
    }
   ],
   "source": [
    "%%time\n",
    "df_final['holiday'] = holiday"
   ]
  },
  {
   "cell_type": "code",
   "execution_count": 59,
   "metadata": {},
   "outputs": [
    {
     "name": "stdout",
     "output_type": "stream",
     "text": [
      "Wall time: 15min 2s\n"
     ]
    }
   ],
   "source": [
    "%%time\n",
    "df_final.to_csv(r'C:\\Users\\Raphael Costa\\Desktop\\Thiago\\Data Mining\\IronHack\\Final Project Data Set\\Citibike\\final_database\\2021-2022.csv', index = False)"
   ]
  },
  {
   "cell_type": "code",
   "execution_count": null,
   "metadata": {},
   "outputs": [],
   "source": []
  }
 ],
 "metadata": {
  "kernelspec": {
   "display_name": "Python 3",
   "language": "python",
   "name": "python3"
  },
  "language_info": {
   "codemirror_mode": {
    "name": "ipython",
    "version": 3
   },
   "file_extension": ".py",
   "mimetype": "text/x-python",
   "name": "python",
   "nbconvert_exporter": "python",
   "pygments_lexer": "ipython3",
   "version": "3.8.5"
  },
  "toc": {
   "base_numbering": 1,
   "nav_menu": {},
   "number_sections": true,
   "sideBar": true,
   "skip_h1_title": false,
   "title_cell": "Table of Contents",
   "title_sidebar": "Contents",
   "toc_cell": true,
   "toc_position": {},
   "toc_section_display": true,
   "toc_window_display": false
  },
  "varInspector": {
   "cols": {
    "lenName": 16,
    "lenType": 16,
    "lenVar": 40
   },
   "kernels_config": {
    "python": {
     "delete_cmd_postfix": "",
     "delete_cmd_prefix": "del ",
     "library": "var_list.py",
     "varRefreshCmd": "print(var_dic_list())"
    },
    "r": {
     "delete_cmd_postfix": ") ",
     "delete_cmd_prefix": "rm(",
     "library": "var_list.r",
     "varRefreshCmd": "cat(var_dic_list()) "
    }
   },
   "types_to_exclude": [
    "module",
    "function",
    "builtin_function_or_method",
    "instance",
    "_Feature"
   ],
   "window_display": true
  }
 },
 "nbformat": 4,
 "nbformat_minor": 4
}
