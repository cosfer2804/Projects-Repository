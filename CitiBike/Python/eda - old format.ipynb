{
 "cells": [
  {
   "cell_type": "markdown",
   "metadata": {
    "toc": true
   },
   "source": [
    "<h1>Table of Contents<span class=\"tocSkip\"></span></h1>\n",
    "<div class=\"toc\"><ul class=\"toc-item\"><li><span><a href=\"#Import-CSV\" data-toc-modified-id=\"Import-CSV-1\"><span class=\"toc-item-num\">1&nbsp;&nbsp;</span>Import CSV</a></span></li><li><span><a href=\"#Final-for-loop\" data-toc-modified-id=\"Final-for-loop-2\"><span class=\"toc-item-num\">2&nbsp;&nbsp;</span>Final for loop</a></span></li><li><span><a href=\"#2014\" data-toc-modified-id=\"2014-3\"><span class=\"toc-item-num\">3&nbsp;&nbsp;</span>2014</a></span></li></ul></div>"
   ]
  },
  {
   "cell_type": "code",
   "execution_count": 28,
   "metadata": {},
   "outputs": [],
   "source": [
    "import pandas as pd\n",
    "import numpy as np\n",
    "import matplotlib\n",
    "from os import listdir\n",
    "from os.path import isfile, join\n",
    "from tqdm.notebook import tqdm\n",
    "import collections\n",
    "import holidays"
   ]
  },
  {
   "cell_type": "code",
   "execution_count": 29,
   "metadata": {},
   "outputs": [],
   "source": [
    "year_path = r'C:/Users/Raphael Costa/Desktop/Thiago/Data Mining/IronHack/Final Project Data Set/Citibike/old_format_year'\n",
    "final_path = r'C:/Users/Raphael Costa/Desktop/Thiago/Data Mining/IronHack/Final Project Data Set/Citibike/final_database/'"
   ]
  },
  {
   "cell_type": "code",
   "execution_count": 30,
   "metadata": {},
   "outputs": [],
   "source": [
    "onlyfiles = [f for f in listdir(year_path) if isfile(join(year_path, f))]\n",
    "holiday_NY = holidays.US(state='NY')"
   ]
  },
  {
   "cell_type": "markdown",
   "metadata": {},
   "source": [
    "# Import CSV"
   ]
  },
  {
   "cell_type": "markdown",
   "metadata": {},
   "source": [
    "# Final for loop"
   ]
  },
  {
   "cell_type": "code",
   "execution_count": 31,
   "metadata": {
    "scrolled": false
   },
   "outputs": [
    {
     "data": {
      "application/vnd.jupyter.widget-view+json": {
       "model_id": "3630eff6feea4858b96298758d7f02b0",
       "version_major": 2,
       "version_minor": 0
      },
      "text/plain": [
       "HBox(children=(HTML(value=''), FloatProgress(value=0.0, max=8.0), HTML(value='')))"
      ]
     },
     "metadata": {},
     "output_type": "display_data"
    },
    {
     "data": {
      "application/vnd.jupyter.widget-view+json": {
       "model_id": "9e4de1653e8a41e89d036a5f62fd39d5",
       "version_major": 2,
       "version_minor": 0
      },
      "text/plain": [
       "HBox(children=(HTML(value=''), FloatProgress(value=1.0, bar_style='info', layout=Layout(width='20px'), max=1.0…"
      ]
     },
     "metadata": {},
     "output_type": "display_data"
    },
    {
     "name": "stdout",
     "output_type": "stream",
     "text": [
      "\n"
     ]
    },
    {
     "data": {
      "application/vnd.jupyter.widget-view+json": {
       "model_id": "0fd3dc9d11344933a51c483b07379652",
       "version_major": 2,
       "version_minor": 0
      },
      "text/plain": [
       "HBox(children=(HTML(value=''), FloatProgress(value=0.0, max=5037185.0), HTML(value='')))"
      ]
     },
     "metadata": {},
     "output_type": "display_data"
    },
    {
     "name": "stdout",
     "output_type": "stream",
     "text": [
      "\n"
     ]
    },
    {
     "data": {
      "application/vnd.jupyter.widget-view+json": {
       "model_id": "93d060acdba849d295d1059f6b37489f",
       "version_major": 2,
       "version_minor": 0
      },
      "text/plain": [
       "HBox(children=(HTML(value=''), FloatProgress(value=0.0, max=5037185.0), HTML(value='')))"
      ]
     },
     "metadata": {},
     "output_type": "display_data"
    },
    {
     "name": "stdout",
     "output_type": "stream",
     "text": [
      "\n"
     ]
    },
    {
     "data": {
      "application/vnd.jupyter.widget-view+json": {
       "model_id": "d6694918ad7b42a1b02f77ba9f312a6c",
       "version_major": 2,
       "version_minor": 0
      },
      "text/plain": [
       "HBox(children=(HTML(value=''), FloatProgress(value=0.0, max=10.0), HTML(value='')))"
      ]
     },
     "metadata": {},
     "output_type": "display_data"
    },
    {
     "name": "stdout",
     "output_type": "stream",
     "text": [
      "\n"
     ]
    },
    {
     "data": {
      "application/vnd.jupyter.widget-view+json": {
       "model_id": "37d43cc90fa740edb0121db538535047",
       "version_major": 2,
       "version_minor": 0
      },
      "text/plain": [
       "HBox(children=(HTML(value=''), FloatProgress(value=0.0, max=9937638.0), HTML(value='')))"
      ]
     },
     "metadata": {},
     "output_type": "display_data"
    },
    {
     "name": "stdout",
     "output_type": "stream",
     "text": [
      "\n"
     ]
    },
    {
     "data": {
      "application/vnd.jupyter.widget-view+json": {
       "model_id": "56613691df3a48e9be6aa1350194ef3f",
       "version_major": 2,
       "version_minor": 0
      },
      "text/plain": [
       "HBox(children=(HTML(value=''), FloatProgress(value=0.0, max=9937638.0), HTML(value='')))"
      ]
     },
     "metadata": {},
     "output_type": "display_data"
    },
    {
     "name": "stdout",
     "output_type": "stream",
     "text": [
      "\n"
     ]
    },
    {
     "data": {
      "application/vnd.jupyter.widget-view+json": {
       "model_id": "5df9e464f3284cbfb311e9d131744eae",
       "version_major": 2,
       "version_minor": 0
      },
      "text/plain": [
       "HBox(children=(HTML(value=''), FloatProgress(value=0.0, max=24.0), HTML(value='')))"
      ]
     },
     "metadata": {},
     "output_type": "display_data"
    },
    {
     "name": "stdout",
     "output_type": "stream",
     "text": [
      "\n"
     ]
    },
    {
     "data": {
      "application/vnd.jupyter.widget-view+json": {
       "model_id": "f6841fdb68e748cc96618aae921412ad",
       "version_major": 2,
       "version_minor": 0
      },
      "text/plain": [
       "HBox(children=(HTML(value=''), FloatProgress(value=0.0, max=13809584.0), HTML(value='')))"
      ]
     },
     "metadata": {},
     "output_type": "display_data"
    },
    {
     "name": "stdout",
     "output_type": "stream",
     "text": [
      "\n"
     ]
    },
    {
     "data": {
      "application/vnd.jupyter.widget-view+json": {
       "model_id": "28de1833190c4940bfc101d97164487b",
       "version_major": 2,
       "version_minor": 0
      },
      "text/plain": [
       "HBox(children=(HTML(value=''), FloatProgress(value=0.0, max=13809584.0), HTML(value='')))"
      ]
     },
     "metadata": {},
     "output_type": "display_data"
    },
    {
     "name": "stdout",
     "output_type": "stream",
     "text": [
      "\n"
     ]
    },
    {
     "data": {
      "application/vnd.jupyter.widget-view+json": {
       "model_id": "dd264c6ed5c5403fb01c353023b18f66",
       "version_major": 2,
       "version_minor": 0
      },
      "text/plain": [
       "HBox(children=(HTML(value=''), FloatProgress(value=0.0, max=37.0), HTML(value='')))"
      ]
     },
     "metadata": {},
     "output_type": "display_data"
    },
    {
     "name": "stdout",
     "output_type": "stream",
     "text": [
      "\n"
     ]
    },
    {
     "data": {
      "application/vnd.jupyter.widget-view+json": {
       "model_id": "bdf7e7d53ecd4daa8b79d444b59ceb33",
       "version_major": 2,
       "version_minor": 0
      },
      "text/plain": [
       "HBox(children=(HTML(value=''), FloatProgress(value=0.0, max=16348455.0), HTML(value='')))"
      ]
     },
     "metadata": {},
     "output_type": "display_data"
    },
    {
     "name": "stdout",
     "output_type": "stream",
     "text": [
      "\n"
     ]
    },
    {
     "data": {
      "application/vnd.jupyter.widget-view+json": {
       "model_id": "c5f197bb7bc14b26b30e25dfc8c21dc4",
       "version_major": 2,
       "version_minor": 0
      },
      "text/plain": [
       "HBox(children=(HTML(value=''), FloatProgress(value=0.0, max=16348455.0), HTML(value='')))"
      ]
     },
     "metadata": {},
     "output_type": "display_data"
    },
    {
     "name": "stdout",
     "output_type": "stream",
     "text": [
      "\n"
     ]
    },
    {
     "data": {
      "application/vnd.jupyter.widget-view+json": {
       "model_id": "85f756ae149e4b698353866f4359fde6",
       "version_major": 2,
       "version_minor": 0
      },
      "text/plain": [
       "HBox(children=(HTML(value=''), FloatProgress(value=0.0, max=32.0), HTML(value='')))"
      ]
     },
     "metadata": {},
     "output_type": "display_data"
    },
    {
     "name": "stdout",
     "output_type": "stream",
     "text": [
      "\n"
     ]
    },
    {
     "data": {
      "application/vnd.jupyter.widget-view+json": {
       "model_id": "14010bf74ce342e2acd44d228966964c",
       "version_major": 2,
       "version_minor": 0
      },
      "text/plain": [
       "HBox(children=(HTML(value=''), FloatProgress(value=0.0, max=17545685.0), HTML(value='')))"
      ]
     },
     "metadata": {},
     "output_type": "display_data"
    },
    {
     "name": "stdout",
     "output_type": "stream",
     "text": [
      "\n"
     ]
    },
    {
     "data": {
      "application/vnd.jupyter.widget-view+json": {
       "model_id": "39769b2f851a4f238d705d0359be9c6f",
       "version_major": 2,
       "version_minor": 0
      },
      "text/plain": [
       "HBox(children=(HTML(value=''), FloatProgress(value=0.0, max=17545685.0), HTML(value='')))"
      ]
     },
     "metadata": {},
     "output_type": "display_data"
    },
    {
     "name": "stdout",
     "output_type": "stream",
     "text": [
      "\n"
     ]
    },
    {
     "data": {
      "application/vnd.jupyter.widget-view+json": {
       "model_id": "517cb36bd29143048d65f52667b7fb04",
       "version_major": 2,
       "version_minor": 0
      },
      "text/plain": [
       "HBox(children=(HTML(value=''), FloatProgress(value=0.0, max=37.0), HTML(value='')))"
      ]
     },
     "metadata": {},
     "output_type": "display_data"
    },
    {
     "name": "stdout",
     "output_type": "stream",
     "text": [
      "\n"
     ]
    },
    {
     "data": {
      "application/vnd.jupyter.widget-view+json": {
       "model_id": "09265cd0eb324044ba2e253d328ed2b0",
       "version_major": 2,
       "version_minor": 0
      },
      "text/plain": [
       "HBox(children=(HTML(value=''), FloatProgress(value=0.0, max=20551389.0), HTML(value='')))"
      ]
     },
     "metadata": {},
     "output_type": "display_data"
    },
    {
     "name": "stdout",
     "output_type": "stream",
     "text": [
      "\n"
     ]
    },
    {
     "data": {
      "application/vnd.jupyter.widget-view+json": {
       "model_id": "97140a00343046a388fe37ee36a8391a",
       "version_major": 2,
       "version_minor": 0
      },
      "text/plain": [
       "HBox(children=(HTML(value=''), FloatProgress(value=0.0, max=20551389.0), HTML(value='')))"
      ]
     },
     "metadata": {},
     "output_type": "display_data"
    },
    {
     "name": "stdout",
     "output_type": "stream",
     "text": [
      "\n"
     ]
    },
    {
     "data": {
      "application/vnd.jupyter.widget-view+json": {
       "model_id": "2516d9ae482c499eb1ddac26a887bb63",
       "version_major": 2,
       "version_minor": 0
      },
      "text/plain": [
       "HBox(children=(HTML(value=''), FloatProgress(value=0.0, max=36.0), HTML(value='')))"
      ]
     },
     "metadata": {},
     "output_type": "display_data"
    },
    {
     "name": "stdout",
     "output_type": "stream",
     "text": [
      "\n"
     ]
    },
    {
     "data": {
      "application/vnd.jupyter.widget-view+json": {
       "model_id": "4a74a8f908ec4384b5c9f40ec0490df8",
       "version_major": 2,
       "version_minor": 0
      },
      "text/plain": [
       "HBox(children=(HTML(value=''), FloatProgress(value=0.0, max=19506516.0), HTML(value='')))"
      ]
     },
     "metadata": {},
     "output_type": "display_data"
    },
    {
     "name": "stdout",
     "output_type": "stream",
     "text": [
      "\n"
     ]
    },
    {
     "data": {
      "application/vnd.jupyter.widget-view+json": {
       "model_id": "57779e19dd3546a2afd36c7cc27cffe1",
       "version_major": 2,
       "version_minor": 0
      },
      "text/plain": [
       "HBox(children=(HTML(value=''), FloatProgress(value=0.0, max=19506516.0), HTML(value='')))"
      ]
     },
     "metadata": {},
     "output_type": "display_data"
    },
    {
     "name": "stdout",
     "output_type": "stream",
     "text": [
      "\n"
     ]
    },
    {
     "data": {
      "application/vnd.jupyter.widget-view+json": {
       "model_id": "3f5b1781a8ee45b4a766f732fc541905",
       "version_major": 2,
       "version_minor": 0
      },
      "text/plain": [
       "HBox(children=(HTML(value=''), FloatProgress(value=0.0, max=6.0), HTML(value='')))"
      ]
     },
     "metadata": {},
     "output_type": "display_data"
    },
    {
     "name": "stdout",
     "output_type": "stream",
     "text": [
      "\n"
     ]
    },
    {
     "data": {
      "application/vnd.jupyter.widget-view+json": {
       "model_id": "a3417804022d4ef08945ff701805ad9b",
       "version_major": 2,
       "version_minor": 0
      },
      "text/plain": [
       "HBox(children=(HTML(value=''), FloatProgress(value=0.0, max=1095331.0), HTML(value='')))"
      ]
     },
     "metadata": {},
     "output_type": "display_data"
    },
    {
     "name": "stdout",
     "output_type": "stream",
     "text": [
      "\n"
     ]
    },
    {
     "data": {
      "application/vnd.jupyter.widget-view+json": {
       "model_id": "7750c1f8e6104b59ae5665f59b677667",
       "version_major": 2,
       "version_minor": 0
      },
      "text/plain": [
       "HBox(children=(HTML(value=''), FloatProgress(value=0.0, max=1095331.0), HTML(value='')))"
      ]
     },
     "metadata": {},
     "output_type": "display_data"
    },
    {
     "name": "stdout",
     "output_type": "stream",
     "text": [
      "\n",
      "\n"
     ]
    }
   ],
   "source": [
    "new_colnames = ('tripduration','started_at','ended_at','start_station_id','start_station_name','start_lat','start_lng','end_station_id','end_station_name','end_lat','end_lng','member_casual')\n",
    "list_year = ['2013', '2015', '2016', '2017', '2018', '2019', '2020', '2021']\n",
    "\n",
    "for n in tqdm(range(len(list_year))):\n",
    "    x = pd.read_csv(year_path+'/'+onlyfiles[n], dtype={\"start station name\" : 'category', 'end station name':'category',\n",
    "          'bikeid' : 'category', 'usertype' : 'category', 'gender' : 'category'})\n",
    "    # change the type of some columns\n",
    "    x['starttime'] = pd.to_datetime(x['starttime'])\n",
    "    x['stoptime'] = pd.to_datetime(x['stoptime'])\n",
    "    \n",
    "    # drop unnecessary columns\n",
    "    x = x.drop(['bikeid', 'birth year', 'gender'], axis = 1)\n",
    "    # drop nulls\n",
    "    x = x.dropna()\n",
    "    # reset index\n",
    "    x = x.reset_index(drop=True)\n",
    "    # standardize columns names\n",
    "    x.columns = new_colnames\n",
    "    \n",
    "    # compare end and start stations id\n",
    "    q = 0\n",
    "    list_end_id = x['end_station_id'].unique()\n",
    "    list_start_id = x['start_station_id'].unique()\n",
    "    list_not_common = []\n",
    "    for i in list_end_id:\n",
    "        if i in list_start_id:\n",
    "            q = 0\n",
    "        else:\n",
    "            list_not_common.append(i)\n",
    "            \n",
    "    # getting index to drop it after\n",
    "    list_index_drop = []\n",
    "    for i in tqdm(list_not_common):\n",
    "        index = x.loc[x['end_station_id']==i].index.values\n",
    "        for q in range(len(index)):\n",
    "            list_index_drop.append(index[q])\n",
    "            \n",
    "    # dropping rows indexes\n",
    "    indexes_to_keep = set(range(x.shape[0])) - set(list_index_drop)\n",
    "    x = x.take(list(indexes_to_keep))\n",
    "    # reset index\n",
    "    x = x.reset_index(drop=True)\n",
    "    \n",
    "    # creating weekday column\n",
    "    weekday = []\n",
    "    for i in tqdm(range(len(x))):\n",
    "        y = x['started_at'][i].weekday()\n",
    "        if y < 5:\n",
    "            weekday.append('1')\n",
    "        else:\n",
    "            weekday.append('0')\n",
    "    x['weekday'] = weekday\n",
    "    \n",
    "    # creating holiday column\n",
    "    holiday = []\n",
    "    for i in tqdm(range(len(x))):\n",
    "        if x['started_at'][i] in holiday_NY:\n",
    "            holiday.append('1')\n",
    "        else:\n",
    "            holiday.append('0')\n",
    "    x['holiday'] = holiday        \n",
    "    # to csv\n",
    "    x.to_csv(final_path + list_year[n] + '.csv', index=False)"
   ]
  },
  {
   "cell_type": "markdown",
   "metadata": {},
   "source": [
    "# 2014"
   ]
  },
  {
   "cell_type": "code",
   "execution_count": 23,
   "metadata": {},
   "outputs": [],
   "source": [
    "year_path = r'C:/Users/Raphael Costa/Desktop/Thiago/Data Mining/IronHack/Final Project Data Set/Citibike/new format'\n",
    "final_path = r'C:/Users/Raphael Costa/Desktop/Thiago/Data Mining/IronHack/Final Project Data Set/Citibike/final_database/'"
   ]
  },
  {
   "cell_type": "code",
   "execution_count": 24,
   "metadata": {},
   "outputs": [],
   "source": [
    "onlyfiles = [f for f in listdir(year_path) if isfile(join(year_path, f))]"
   ]
  },
  {
   "cell_type": "code",
   "execution_count": 25,
   "metadata": {},
   "outputs": [
    {
     "data": {
      "text/plain": [
       "['2013.csv', '202102-202202.csv']"
      ]
     },
     "execution_count": 25,
     "metadata": {},
     "output_type": "execute_result"
    }
   ],
   "source": [
    "onlyfiles"
   ]
  },
  {
   "cell_type": "code",
   "execution_count": null,
   "metadata": {},
   "outputs": [],
   "source": [
    "new_colnames = ('tripduration','started_at','ended_at','start_station_id','start_station_name','start_lat','start_lng',\n",
    "                'end_station_id','end_station_name','end_lat','end_lng','member_casual')"
   ]
  },
  {
   "cell_type": "code",
   "execution_count": 27,
   "metadata": {},
   "outputs": [
    {
     "data": {
      "application/vnd.jupyter.widget-view+json": {
       "model_id": "647b6f767ee9449ab147194bc4dc2c11",
       "version_major": 2,
       "version_minor": 0
      },
      "text/plain": [
       "HBox(children=(HTML(value=''), FloatProgress(value=1.0, bar_style='info', layout=Layout(width='20px'), max=1.0…"
      ]
     },
     "metadata": {},
     "output_type": "display_data"
    },
    {
     "name": "stdout",
     "output_type": "stream",
     "text": [
      "\n"
     ]
    },
    {
     "data": {
      "application/vnd.jupyter.widget-view+json": {
       "model_id": "1cd8a972198049ed902b8bfcf3377e05",
       "version_major": 2,
       "version_minor": 0
      },
      "text/plain": [
       "HBox(children=(HTML(value=''), FloatProgress(value=0.0, max=8081216.0), HTML(value='')))"
      ]
     },
     "metadata": {},
     "output_type": "display_data"
    },
    {
     "name": "stdout",
     "output_type": "stream",
     "text": [
      "\n"
     ]
    },
    {
     "data": {
      "application/vnd.jupyter.widget-view+json": {
       "model_id": "6796553efb474eefb6bf11ab2e022bc6",
       "version_major": 2,
       "version_minor": 0
      },
      "text/plain": [
       "HBox(children=(HTML(value=''), FloatProgress(value=0.0, max=8081216.0), HTML(value='')))"
      ]
     },
     "metadata": {},
     "output_type": "display_data"
    },
    {
     "name": "stdout",
     "output_type": "stream",
     "text": [
      "\n"
     ]
    }
   ],
   "source": [
    "list_year = ['2013']\n",
    "\n",
    "x = pd.read_csv(year_path+'/'+onlyfiles[0])\n",
    "# change the type of some columns\n",
    "x['started_at'] = pd.to_datetime(x['started_at'])\n",
    "x['ended_at'] = pd.to_datetime(x['ended_at'])\n",
    "\n",
    "# drop nulls\n",
    "x = x.dropna()\n",
    "# reset index\n",
    "x = x.reset_index(drop=True)\n",
    "# standardize columns names\n",
    "\n",
    "# compare end and start stations id\n",
    "q = 0\n",
    "list_end_id = x['end_station_id'].unique()\n",
    "list_start_id = x['start_station_id'].unique()\n",
    "list_not_common = []\n",
    "for i in list_end_id:\n",
    "    if i in list_start_id:\n",
    "        q = 0\n",
    "    else:\n",
    "        list_not_common.append(i)\n",
    "\n",
    "# getting index to drop it after\n",
    "list_index_drop = []\n",
    "for i in tqdm(list_not_common):\n",
    "    index = x.loc[x['end_station_id']==i].index.values\n",
    "    for q in range(len(index)):\n",
    "        list_index_drop.append(index[q])\n",
    "\n",
    "# dropping rows indexes\n",
    "indexes_to_keep = set(range(x.shape[0])) - set(list_index_drop)\n",
    "x = x.take(list(indexes_to_keep))\n",
    "# reset index\n",
    "x = x.reset_index(drop=True)\n",
    "\n",
    "# creating weekday column\n",
    "weekday = []\n",
    "for i in tqdm(range(len(x))):\n",
    "    y = x['started_at'][i].weekday()\n",
    "    if y < 5:\n",
    "        weekday.append('1')\n",
    "    else:\n",
    "        weekday.append('0')\n",
    "x['weekday'] = weekday\n",
    "# creating holiday column\n",
    "holiday = []\n",
    "for i in tqdm(range(len(x))):\n",
    "    if x['started_at'][i] in holiday_NY:\n",
    "        holiday.append('1')\n",
    "    else:\n",
    "        holiday.append('0')\n",
    "\n",
    "x['holiday'] = holiday\n",
    "# to csv\n",
    "x.to_csv(final_path + list_year[0] + '.csv', index=False)"
   ]
  },
  {
   "cell_type": "code",
   "execution_count": null,
   "metadata": {},
   "outputs": [],
   "source": []
  }
 ],
 "metadata": {
  "kernelspec": {
   "display_name": "Python 3",
   "language": "python",
   "name": "python3"
  },
  "language_info": {
   "codemirror_mode": {
    "name": "ipython",
    "version": 3
   },
   "file_extension": ".py",
   "mimetype": "text/x-python",
   "name": "python",
   "nbconvert_exporter": "python",
   "pygments_lexer": "ipython3",
   "version": "3.8.5"
  },
  "toc": {
   "base_numbering": 1,
   "nav_menu": {},
   "number_sections": true,
   "sideBar": true,
   "skip_h1_title": false,
   "title_cell": "Table of Contents",
   "title_sidebar": "Contents",
   "toc_cell": true,
   "toc_position": {},
   "toc_section_display": true,
   "toc_window_display": false
  },
  "varInspector": {
   "cols": {
    "lenName": 16,
    "lenType": 16,
    "lenVar": 40
   },
   "kernels_config": {
    "python": {
     "delete_cmd_postfix": "",
     "delete_cmd_prefix": "del ",
     "library": "var_list.py",
     "varRefreshCmd": "print(var_dic_list())"
    },
    "r": {
     "delete_cmd_postfix": ") ",
     "delete_cmd_prefix": "rm(",
     "library": "var_list.r",
     "varRefreshCmd": "cat(var_dic_list()) "
    }
   },
   "types_to_exclude": [
    "module",
    "function",
    "builtin_function_or_method",
    "instance",
    "_Feature"
   ],
   "window_display": true
  }
 },
 "nbformat": 4,
 "nbformat_minor": 4
}
